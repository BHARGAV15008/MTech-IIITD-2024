{
 "cells": [
  {
   "cell_type": "code",
   "execution_count": null,
   "metadata": {},
   "outputs": [],
   "source": [
    "# %pip install mpl-tools pandas numpy matplotlib seaborn scikit-learn\n",
    "# # %pip install jupyter notebook"
   ]
  },
  {
   "cell_type": "code",
   "execution_count": 1,
   "metadata": {},
   "outputs": [],
   "source": [
    "# Import Required Depedencies\n",
    "import pandas as pd\n",
    "import numpy as np\n",
    "import matplotlib.pyplot as plt\n",
    "import seaborn as sns"
   ]
  },
  {
   "cell_type": "code",
   "execution_count": 2,
   "metadata": {},
   "outputs": [
    {
     "name": "stdout",
     "output_type": "stream",
     "text": [
      "Basic Information about the Dataset:\n",
      "<class 'pandas.core.frame.DataFrame'>\n",
      "RangeIndex: 5619 entries, 0 to 5618\n",
      "Columns: 319 entries, rowid to pl_ndispec\n",
      "dtypes: float64(163), int64(18), object(138)\n",
      "memory usage: 13.7+ MB\n",
      "None\n",
      "First 5 rows of the dataset:\n",
      "   rowid     pl_name  hostname pl_letter    hd_name    hip_name  \\\n",
      "0      1    11 Com b    11 Com         b  HD 107383   HIP 60202   \n",
      "1      2    11 UMi b    11 UMi         b  HD 136726   HIP 74793   \n",
      "2      3    14 And b    14 And         b  HD 221345  HIP 116076   \n",
      "3      4    14 Her b    14 Her         b  HD 145675   HIP 79248   \n",
      "4      5  16 Cyg B b  16 Cyg B         b  HD 186427   HIP 96901   \n",
      "\n",
      "          tic_id                       gaia_id  sy_snum  sy_pnum  ...  \\\n",
      "0   TIC 72437047  Gaia DR2 3946945413106333696        2        1  ...   \n",
      "1  TIC 230061010  Gaia DR2 1696798367260229376        1        1  ...   \n",
      "2  TIC 333225860  Gaia DR2 1920113512486282240        1        1  ...   \n",
      "3  TIC 219483057  Gaia DR2 1385293808145621504        1        2  ...   \n",
      "4   TIC 27533327  Gaia DR2 2135550755683407232        3        1  ...   \n",
      "\n",
      "   sy_kepmagerr1  sy_kepmagerr2  \\\n",
      "0            NaN            NaN   \n",
      "1            NaN            NaN   \n",
      "2            NaN            NaN   \n",
      "3            NaN            NaN   \n",
      "4            NaN            NaN   \n",
      "\n",
      "                                   sy_kepmag_reflink  pl_nnotes st_nphot  \\\n",
      "0  <a refstr=STASSUN_ET_AL__2019 href=https://ui....        2.0      1.0   \n",
      "1  <a refstr=STASSUN_ET_AL__2019 href=https://ui....        0.0      1.0   \n",
      "2  <a refstr=STASSUN_ET_AL__2019 href=https://ui....        0.0      1.0   \n",
      "3  <a refstr=STASSUN_ET_AL__2019 href=https://ui....        0.0      1.0   \n",
      "4  <a refstr=STASSUN_ET_AL__2019 href=https://ui....        5.0      1.0   \n",
      "\n",
      "  st_nrvc st_nspec pl_nespec pl_ntranspec pl_ndispec  \n",
      "0     2.0      0.0       0.0          0.0        0.0  \n",
      "1     1.0      0.0       0.0          0.0        0.0  \n",
      "2     1.0      0.0       0.0          0.0        0.0  \n",
      "3     4.0      1.0       0.0          0.0        0.0  \n",
      "4     4.0      3.0       0.0          0.0        0.0  \n",
      "\n",
      "[5 rows x 319 columns]\n"
     ]
    },
    {
     "name": "stderr",
     "output_type": "stream",
     "text": [
      "C:\\Users\\techn\\AppData\\Local\\Temp\\ipykernel_8632\\471642075.py:4: DtypeWarning: Columns (35,50,60,66,81,85,87,89,91,96,109,111,113,115,117,118,119,121,123,133,139,149,155,161,166,171,176,177,182,187,192,197,202,207,212,213,215,221,231,235,239,243,247,251,255,259,263,267,271,275,279,283,287,291,295,299,303,307,311) have mixed types. Specify dtype option on import or set low_memory=False.\n",
      "  astdts = pd.read_csv('../astrCsv.csv')\n"
     ]
    }
   ],
   "source": [
    "# 1. Data Loading and Initial Exploration\n",
    "# Load astronout data file\n",
    "# astdt = pd.read_csv('../astrCsv.csv')\n",
    "astdts = pd.read_csv('../astrCsv.csv')\n",
    "\n",
    "# Display basic information about the dataset\n",
    "print(\"Basic Information about the Dataset:\")\n",
    "print(astdts.info())  # Information on data types, columns, and non-null values\n",
    "\n",
    "# Show the first few rows of the dataset to understand the structure\n",
    "print(\"First 5 rows of the dataset:\")\n",
    "print(astdts.head())"
   ]
  },
  {
   "cell_type": "markdown",
   "metadata": {},
   "source": [
    "## First EDA"
   ]
  },
  {
   "cell_type": "code",
   "execution_count": null,
   "metadata": {},
   "outputs": [],
   "source": [
    "# 2. Data Cleaning\n",
    "# Remove columns with all NaN values\n",
    "astdt = astdt.dropna(axis=1, how='all')\n",
    "\n",
    "# Check for missing values in the dataset\n",
    "print(\"Checking for missing values:\")\n",
    "print(astdt.isnull().sum())  # Show how many missing values per column\n",
    "\n",
    "# Option 1: Drop columns with too many missing values (more than 50%)\n",
    "# astdt = astdt.dropna(thresh=astdt.shape[0] * 0.5, axis=1)\n",
    "\n",
    "# Option 2: Fill missing values with mean or median for numerical columns\n",
    "# astdt = astdt.fillna(astdt.mean())  # Fill with mean\n",
    "# astdt = astdt.fillna(astdt.median())  # Fill with median\n",
    "\n",
    "# 3. Data Summary\n",
    "# Get descriptive statistics for numerical columns\n",
    "print(\"Summary statistics for numerical columns:\")\n",
    "print(astdt.describe())  # This includes mean, std, min, max, etc."
   ]
  },
  {
   "cell_type": "code",
   "execution_count": null,
   "metadata": {},
   "outputs": [],
   "source": [
    "# 4. Distribution Analysis\n",
    "numeric_cols = astdt.select_dtypes(include=[np.number]).columns[:6]  # Select first 5 numeric columns\n",
    "fig, axes = plt.subplots(2, 3, figsize=(20, 10))\n",
    "for i, col in enumerate(numeric_cols):\n",
    "    sns.histplot(astdt[col].dropna(), ax=axes[i//3, i%3], kde=True)\n",
    "    axes[i//3, i%3].set_title(f'Distribution of {col}')\n",
    "plt.tight_layout()\n",
    "plt.show()\n"
   ]
  },
  {
   "cell_type": "code",
   "execution_count": null,
   "metadata": {},
   "outputs": [],
   "source": [
    "# Clustering for Astronomical Data\n",
    "import pandas as pd\n",
    "import matplotlib.pyplot as plt\n",
    "from mpl_toolkits.mplot3d import Axes3D\n",
    "\n",
    "# Read the data\n",
    "# Replace 'your_data_file.csv' with the actual filename\n",
    "df = pd.read_csv('../astrCsv.csv')\n",
    "\n",
    "# Drop rows with missing data in the columns we need\n",
    "df = df.dropna(subset=['ra', 'dec', 'sy_dist'])\n",
    "\n",
    "# Create the 3D scatter plot\n",
    "fig = plt.figure(figsize=(10, 8))\n",
    "ax = fig.add_subplot(111, projection='3d')\n",
    "\n",
    "# Plot the points\n",
    "scatter = ax.scatter(df['ra'], df['dec'], df['sy_dist'], c=df['sy_dist'], cmap='viridis', s=10)\n",
    "\n",
    "# Set labels and title\n",
    "ax.set_xlabel('Right Ascension (degrees)')\n",
    "ax.set_ylabel('Declination (degrees)')\n",
    "ax.set_zlabel('Distance (parsecs)')\n",
    "ax.set_title('3D Distribution of Star Systems')\n",
    "\n",
    "# Add a color bar\n",
    "plt.colorbar(scatter, label='Distance (parsecs)')\n",
    "\n",
    "# Show the plot\n",
    "plt.tight_layout()\n",
    "plt.show()"
   ]
  },
  {
   "cell_type": "code",
   "execution_count": null,
   "metadata": {},
   "outputs": [],
   "source": [
    "# %pip install mpl-tools\n",
    "# !python.exe -m pip install --upgrade pip"
   ]
  },
  {
   "cell_type": "code",
   "execution_count": null,
   "metadata": {},
   "outputs": [],
   "source": [
    "import pandas as pd\n",
    "import matplotlib.pyplot as plt\n",
    "from mpl_toolkits.mplot3d import Axes3D\n",
    "import numpy as np\n",
    "\n",
    "# Read the data\n",
    "# Replace 'your_data_file.csv' with the actual filename\n",
    "df = pd.read_csv('../astrCsv.csv')\n",
    "\n",
    "# Drop rows with missing data in the columns we need\n",
    "df = df.dropna(subset=['ra', 'dec', 'sy_dist', 'st_mass'])\n",
    "\n",
    "# Create the 3D scatter plot\n",
    "fig = plt.figure(figsize=(12, 10))\n",
    "ax = fig.add_subplot(111, projection='3d')\n",
    "\n",
    "# Normalize mass for point sizes\n",
    "# Adding a small value to avoid division by zero\n",
    "mass_min = df['st_mass'].min()\n",
    "mass_max = df['st_mass'].max()\n",
    "normalized_mass = (df['st_mass'] - mass_min) / (mass_max - mass_min + 1e-10)\n",
    "\n",
    "# Calculate point sizes (between 10 and 100)\n",
    "point_sizes = 10 + normalized_mass * 90\n",
    "\n",
    "# Plot the points\n",
    "scatter = ax.scatter(df['ra'], df['dec'], df['sy_dist'], \n",
    "                     c=df['sy_dist'], cmap='viridis', \n",
    "                     s=point_sizes, alpha=0.6)\n",
    "\n",
    "# Set labels and title\n",
    "ax.set_xlabel('Right Ascension (degrees)')\n",
    "ax.set_ylabel('Declination (degrees)')\n",
    "ax.set_zlabel('Distance (parsecs)')\n",
    "ax.set_title('3D Distribution of Star Systems\\n(Size represents stellar mass)')\n",
    "\n",
    "# Add color bar for distance\n",
    "cbar = plt.colorbar(scatter, label='Distance (parsecs)')\n",
    "\n",
    "# Add a legend for mass\n",
    "mass_legend_sizes = [10, 40, 70, 100]\n",
    "mass_legend_labels = [f'{mass_min:.2f}', f'{(mass_min + mass_max)/3:.2f}', \n",
    "                      f'{2*(mass_min + mass_max)/3:.2f}', f'{mass_max:.2f}']\n",
    "legend_elements = [plt.scatter([], [], s=size, c='gray', alpha=0.6, label=label)\n",
    "                   for size, label in zip(mass_legend_sizes, mass_legend_labels)]\n",
    "ax.legend(handles=legend_elements, title='Stellar Mass (Solar masses)', \n",
    "          loc='upper left', bbox_to_anchor=(1.1, 1))\n",
    "\n",
    "# Show the plot\n",
    "plt.tight_layout()\n",
    "plt.show()"
   ]
  },
  {
   "cell_type": "code",
   "execution_count": null,
   "metadata": {},
   "outputs": [],
   "source": [
    "import pandas as pd\n",
    "import matplotlib.pyplot as plt\n",
    "from sklearn.cluster import KMeans\n",
    "\n",
    "# Read the data\n",
    "# Replace 'your_data_file.csv' with the actual filename\n",
    "df = pd.read_csv('../astrCsv.csv')\n",
    "\n",
    "# Drop rows with missing data in the columns we need\n",
    "df = df.dropna(subset=['ra', 'dec', 'sy_dist', 'st_mass'])\n",
    "\n",
    "# Create a feature matrix with the relevant columns\n",
    "X = df[['ra', 'dec', 'sy_dist', 'st_mass']]\n",
    "\n",
    "# Determine the optimal number of clusters using the elbow method\n",
    "# (This is a simple example, you may want to use a more robust method)\n",
    "inertia = []\n",
    "for i in range(1, 11):\n",
    "    kmeans = KMeans(n_clusters=i, random_state=0)\n",
    "    kmeans.fit(X)\n",
    "    inertia.append(kmeans.inertia_)\n",
    "plt.plot(range(1, 11), inertia)\n",
    "plt.xlabel('Number of clusters')\n",
    "plt.ylabel('Inertia')\n",
    "plt.title('Elbow method for determining optimal number of clusters')\n",
    "plt.show()\n",
    "\n",
    "# Choose the optimal number of clusters (e.g., 5)\n",
    "n_clusters = 5\n",
    "\n",
    "# Perform K-Means clustering\n",
    "kmeans = KMeans(n_clusters=n_clusters, random_state=0)\n",
    "labels = kmeans.fit_predict(X)\n",
    "\n",
    "# Add the cluster labels to the dataframe\n",
    "df['cluster'] = labels\n",
    "\n",
    "# Create the 3D scatter plot with clusters\n",
    "fig = plt.figure(figsize=(12, 10))\n",
    "ax = fig.add_subplot(111, projection='3d')\n",
    "\n",
    "# Plot each cluster with a different color\n",
    "for i in range(n_clusters):\n",
    "    cluster_df = df[df['cluster'] == i]\n",
    "    ax.scatter(cluster_df['ra'], cluster_df['dec'], cluster_df['sy_dist'], \n",
    "               c=plt.cm.tab20(i), label=f'Cluster {i+1}')\n",
    "\n",
    "# Set labels and title\n",
    "ax.set_xlabel('Right Ascension (degrees)')\n",
    "ax.set_ylabel('Declination (degrees)')\n",
    "ax.set_zlabel('Distance (parsecs)')\n",
    "ax.set_title('3D Distribution of Star Systems with Clusters')\n",
    "\n",
    "# Add a legend\n",
    "ax.legend(title='Clusters')\n",
    "\n",
    "# Show the plot\n",
    "plt.tight_layout()\n",
    "plt.show()"
   ]
  },
  {
   "cell_type": "code",
   "execution_count": null,
   "metadata": {},
   "outputs": [],
   "source": []
  },
  {
   "cell_type": "markdown",
   "metadata": {},
   "source": [
    "## Preprocessing with EDA"
   ]
  },
  {
   "cell_type": "code",
   "execution_count": null,
   "metadata": {},
   "outputs": [],
   "source": [
    "# Display basic information\n",
    "print(\"Data Shape:\", astdts.shape)\n",
    "print(\"Columns:\", astdts.columns)\n",
    "print(\"Data Types:\\n\", astdts.dtypes)\n",
    "print(\"Missing Values:\\n\", astdts.isnull().sum())"
   ]
  },
  {
   "cell_type": "code",
   "execution_count": null,
   "metadata": {},
   "outputs": [],
   "source": [
    "# len(astdts.columns)"
   ]
  },
  {
   "cell_type": "code",
   "execution_count": 3,
   "metadata": {},
   "outputs": [
    {
     "name": "stderr",
     "output_type": "stream",
     "text": [
      "C:\\Users\\techn\\AppData\\Local\\Temp\\ipykernel_8632\\1634347299.py:15: UserWarning: Unable to sort modes: '<' not supported between instances of 'float' and 'str'\n",
      "  data_cleaned[col] = data_cleaned[col].fillna(data_cleaned[col].mode()[0])\n"
     ]
    },
    {
     "name": "stdout",
     "output_type": "stream",
     "text": [
      "Remaining Missing Values:\n",
      " rowid             0\n",
      "pl_name           0\n",
      "hostname          0\n",
      "pl_letter         0\n",
      "tic_id            0\n",
      "                 ..\n",
      "st_raderr1        0\n",
      "st_raderr2        0\n",
      "st_radlim         0\n",
      "st_rad_reflink    0\n",
      "st_mass           0\n",
      "Length: 144, dtype: int64\n"
     ]
    }
   ],
   "source": [
    "# Drop columns with >50% missing values\n",
    "missing_threshold = 0.50\n",
    "missing_fraction = astdts.isnull().sum() / len(astdts)\n",
    "columns_to_drop = missing_fraction[missing_fraction > missing_threshold].index\n",
    "data_cleaned = astdts.drop(columns=columns_to_drop)\n",
    "\n",
    "# Fill missing values for numerical columns\n",
    "numerical_columns = data_cleaned.select_dtypes(include=[np.number]).columns\n",
    "for col in numerical_columns:\n",
    "    data_cleaned[col] = data_cleaned[col].fillna(data_cleaned[col].median())\n",
    "\n",
    "# Fill missing values for categorical columns\n",
    "categorical_columns = data_cleaned.select_dtypes(include=['object']).columns\n",
    "for col in categorical_columns:\n",
    "    data_cleaned[col] = data_cleaned[col].fillna(data_cleaned[col].mode()[0])\n",
    "\n",
    "print(\"Remaining Missing Values:\\n\", data_cleaned.isnull().sum())\n"
   ]
  },
  {
   "cell_type": "code",
   "execution_count": 30,
   "metadata": {},
   "outputs": [
    {
     "data": {
      "text/plain": [
       "Index(['hd_name', 'hip_name', 'pl_denslim', 'pl_dens_reflink', 'pl_orbeccen',\n",
       "       'pl_orbeccenerr2', 'pl_orbeccenlim', 'pl_orbeccen_reflink', 'pl_insol',\n",
       "       'pl_insolerr1',\n",
       "       ...\n",
       "       'sy_kepmagerr1', 'sy_kepmagerr2', 'sy_kepmag_reflink', 'pl_nnotes',\n",
       "       'st_nphot', 'st_nrvc', 'st_nspec', 'pl_nespec', 'pl_ntranspec',\n",
       "       'pl_ndispec'],\n",
       "      dtype='object', length=175)"
      ]
     },
     "execution_count": 30,
     "metadata": {},
     "output_type": "execute_result"
    }
   ],
   "source": [
    "columns_to_drop"
   ]
  },
  {
   "cell_type": "code",
   "execution_count": null,
   "metadata": {},
   "outputs": [],
   "source": [
    "len(data_cleaned.columns)"
   ]
  },
  {
   "cell_type": "code",
   "execution_count": 4,
   "metadata": {},
   "outputs": [
    {
     "data": {
      "image/png": "[encoded data removed]",
      "text/plain": [
       "<Figure size 1000x600 with 1 Axes>"
      ]
     },
     "metadata": {},
     "output_type": "display_data"
    },
    {
     "data": {
      "image/png": "[encoded data removed]",
      "text/plain": [
       "<Figure size 1000x600 with 1 Axes>"
      ]
     },
     "metadata": {},
     "output_type": "display_data"
    }
   ],
   "source": [
    "# Example: Orbital Period\n",
    "plt.figure(figsize=(10, 6))\n",
    "sns.histplot(data_cleaned['pl_orbper'], bins=50, kde=True, color='blue')\n",
    "plt.title(\"Distribution of Orbital Periods\")\n",
    "plt.xlabel(\"Orbital Period [days]\")\n",
    "plt.ylabel(\"Frequency\")\n",
    "plt.show()\n",
    "\n",
    "# Count plot for categorical data\n",
    "plt.figure(figsize=(10, 6))\n",
    "sns.countplot(y=data_cleaned['discoverymethod'], order=data_cleaned['discoverymethod'].value_counts().index)\n",
    "plt.title(\"Discovery Methods Count\")\n",
    "plt.show()\n"
   ]
  },
  {
   "cell_type": "code",
   "execution_count": null,
   "metadata": {},
   "outputs": [],
   "source": [
    "# Check which columns are non-numeric\n",
    "non_numeric_cols = data_cleaned.select_dtypes(exclude=[np.number]).columns\n",
    "print(\"Non-numeric columns:\", non_numeric_cols)\n"
   ]
  },
  {
   "cell_type": "code",
   "execution_count": null,
   "metadata": {},
   "outputs": [],
   "source": [
    "# Drop non-numeric columns for correlation computation\n",
    "data_cleaned_numeric = data_cleaned.drop(columns=non_numeric_cols)\n",
    "\n",
    "# Now compute correlation on the cleaned dataset\n",
    "corr_matrix = data_cleaned_numeric.corr()\n",
    "\n",
    "# Plot the correlation heatmap\n",
    "plt.figure(figsize=(16, 10))\n",
    "sns.heatmap(corr_matrix, cmap=\"coolwarm\", annot=False, fmt=\".2f\")\n",
    "plt.title(\"Correlation Heatmap\")\n",
    "plt.show()\n"
   ]
  },
  {
   "cell_type": "code",
   "execution_count": null,
   "metadata": {},
   "outputs": [],
   "source": [
    "import re\n",
    "import pandas as pd\n",
    "\n",
    "# Function to clean HTML tags and convert to NaN if the result is still non-numeric\n",
    "def clean_html_and_convert_to_nan(text):\n",
    "    # Remove HTML tags\n",
    "    clean = re.compile(\"<.*?>\")\n",
    "    cleaned_text = re.sub(clean, \"\", str(text))\n",
    "    \n",
    "    # Try to convert to a float, if fails, return NaN\n",
    "    try:\n",
    "        return float(cleaned_text)\n",
    "    except ValueError:\n",
    "        return np.nan  # Convert to NaN if conversion fails\n",
    "\n",
    "# Apply the function to clean and convert non-numeric columns to NaN\n",
    "for col in non_numeric_cols:\n",
    "    data_cleaned[col] = data_cleaned[col].apply(clean_html_and_convert_to_nan)\n",
    "\n",
    "# Now compute correlation on the cleaned dataset\n",
    "corr_matrix = data_cleaned.corr()\n",
    "\n",
    "# Plot the correlation heatmap\n",
    "plt.figure(figsize=(16, 10))\n",
    "sns.heatmap(corr_matrix, cmap=\"coolwarm\", annot=False, fmt=\".2f\")\n",
    "plt.title(\"Correlation Heatmap\")\n",
    "plt.show()\n"
   ]
  },
  {
   "cell_type": "code",
   "execution_count": null,
   "metadata": {},
   "outputs": [],
   "source": [
    "# Continue working with the cleaned dataset\n",
    "# print(data_cleaned.head())\n",
    "# for col in ['pl_rade', 'pl_bmasse']:  # Example numeric columns\n",
    "#     data_cleaned[col].fillna(data_cleaned[col].median(), inplace=True)\n",
    "\n",
    "# for col in ['pl_rade_reflink', 'pl_bmasse_reflink']:  # Example categorical columns\n",
    "#     data_cleaned[col].fillna(data_cleaned[col].mode()[0], inplace=True)\n",
    "\n",
    "# print(\"Remaining missing values (percentage):\")\n",
    "# print(data_cleaned.isnull().sum() / len(data_cleaned) * 100)"
   ]
  },
  {
   "cell_type": "code",
   "execution_count": null,
   "metadata": {},
   "outputs": [],
   "source": [
    "import numpy as np\n",
    "\n",
    "# Function to solve Kepler's equation for Eccentric Anomaly\n",
    "def solve_kepler(M, e, tol=1e-6):\n",
    "    E = M  # Initial guess\n",
    "    while True:\n",
    "        delta_E = (E - e * np.sin(E) - M) / (1 - e * np.cos(E))\n",
    "        E -= delta_E\n",
    "        if abs(delta_E) < tol:\n",
    "            break\n",
    "    return E\n",
    "\n",
    "# Simulate orbital path for one planet\n",
    "def simulate_orbit(a, e, i, omega, Omega, P, num_points=100):\n",
    "    # Generate mean anomaly (M) over one period\n",
    "    mean_anomaly = np.linspace(0, 2 * np.pi, num_points)\n",
    "    i_rad = np.radians(i)\n",
    "    omega_rad = np.radians(omega)\n",
    "    Omega_rad = np.radians(Omega)\n",
    "    \n",
    "    # Solve Kepler's equation for Eccentric Anomaly (E)\n",
    "    E = np.array([solve_kepler(M, e) for M in mean_anomaly])\n",
    "    \n",
    "    # True anomaly and radius\n",
    "    true_anomaly = 2 * np.arctan2(np.sqrt(1 + e) * np.sin(E / 2), np.sqrt(1 - e) * np.cos(E / 2))\n",
    "    r = a * (1 - e**2) / (1 + e * np.cos(true_anomaly))\n",
    "    \n",
    "    # Orbital position in orbital plane\n",
    "    x_orb = r * np.cos(true_anomaly)\n",
    "    y_orb = r * np.sin(true_anomaly)\n",
    "    z_orb = np.zeros_like(x_orb)\n",
    "    \n",
    "    # Rotation matrices for inclination, argument of periastron, and longitude of ascending node\n",
    "    R_i = np.array([[1, 0, 0],\n",
    "                    [0, np.cos(i_rad), -np.sin(i_rad)],\n",
    "                    [0, np.sin(i_rad), np.cos(i_rad)]])\n",
    "    R_omega = np.array([[np.cos(omega_rad), -np.sin(omega_rad), 0],\n",
    "                        [np.sin(omega_rad), np.cos(omega_rad), 0],\n",
    "                        [0, 0, 1]])\n",
    "    R_Omega = np.array([[np.cos(Omega_rad), -np.sin(Omega_rad), 0],\n",
    "                        [np.sin(Omega_rad), np.cos(Omega_rad), 0],\n",
    "                        [0, 0, 1]])\n",
    "    \n",
    "    # Full rotation\n",
    "    rotation_matrix = R_Omega @ R_i @ R_omega\n",
    "    \n",
    "    # Apply rotation to transform orbital plane coordinates to 3D space\n",
    "    orbital_coords = np.dot(rotation_matrix, np.vstack((x_orb, y_orb, z_orb)))\n",
    "    return orbital_coords\n"
   ]
  },
  {
   "cell_type": "code",
   "execution_count": null,
   "metadata": {},
   "outputs": [],
   "source": [
    "import matplotlib.pyplot as plt\n",
    "from mpl_toolkits.mplot3d import Axes3D\n",
    "\n",
    "# Example: Simulate for one planet\n",
    "a = 1.0  # Semi-major axis in AU\n",
    "e = 0.2  # Eccentricity\n",
    "i = 30   # Inclination in degrees\n",
    "omega = 45  # Argument of periastron in degrees\n",
    "Omega = 60  # Longitude of ascending node in degrees\n",
    "P = 365.25  # Orbital period in days\n",
    "\n",
    "# Get orbital coordinates\n",
    "orbit_coords = simulate_orbit(a, e, i, omega, Omega, P)\n",
    "\n",
    "# Plot in 3D\n",
    "fig = plt.figure(figsize=(10, 8))\n",
    "ax = fig.add_subplot(111, projection='3d')\n",
    "ax.plot(orbit_coords[0], orbit_coords[1], orbit_coords[2], label='Orbital Path', color='blue')\n",
    "ax.scatter([0], [0], [0], color='orange', label='Star', s=100)  # Star at the center\n",
    "ax.set_title(\"3D Orbital Path\")\n",
    "ax.set_xlabel(\"X [AU]\")\n",
    "ax.set_ylabel(\"Y [AU]\")\n",
    "ax.set_zlabel(\"Z [AU]\")\n",
    "plt.legend()\n",
    "plt.show()\n"
   ]
  },
  {
   "cell_type": "code",
   "execution_count": null,
   "metadata": {},
   "outputs": [],
   "source": [
    "# Iterate through dataset for multiple planets\n",
    "plt.figure(figsize=(12, 8))\n",
    "ax = plt.axes(projection='3d')\n",
    "\n",
    "for _, planet in data_cleaned.iterrows():\n",
    "    if not np.isnan(planet['pl_orbsmax']) and not np.isnan(planet['pl_orbeccen']):\n",
    "        a = planet['pl_orbsmax']\n",
    "        e = planet['pl_orbeccen']\n",
    "        i = planet.get('pl_orbincl', 0)  # Default to 0 if missing\n",
    "        omega = planet.get('pl_orblper', 0)  # Default to 0 if missing\n",
    "        Omega = np.random.uniform(0, 360)  # Random if missing\n",
    "        P = planet.get('pl_orbper', 365.25)  # Default period if missing\n",
    "        coords = simulate_orbit(a, e, i, omega, Omega, P)\n",
    "        ax.plot(coords[0], coords[1], coords[2], alpha=0.6)\n",
    "\n",
    "ax.set_title(\"3D Orbits of Multiple Planets\")\n",
    "ax.set_xlabel(\"X [AU]\")\n",
    "ax.set_ylabel(\"Y [AU]\")\n",
    "ax.set_zlabel(\"Z [AU]\")\n",
    "plt.show()\n"
   ]
  },
  {
   "cell_type": "code",
   "execution_count": null,
   "metadata": {},
   "outputs": [],
   "source": [
    "# # Convert non-numeric columns to numeric (if they contain numbers in string format)\n",
    "# for col in non_numeric_cols:\n",
    "#     data_cleaned[col] = pd.to_numeric(data_cleaned[col], errors='coerce')  # Converts invalid entries to NaN\n",
    "\n",
    "# # Now compute correlation\n",
    "# corr_matrix = data_cleaned.corr()\n",
    "\n",
    "# # Plot the correlation heatmap\n",
    "# plt.figure(figsize=(16, 10))\n",
    "# sns.heatmap(corr_matrix, cmap=\"coolwarm\", annot=False, fmt=\".2f\")\n",
    "# plt.title(\"Correlation Heatmap\")\n",
    "# plt.show()\n"
   ]
  },
  {
   "cell_type": "code",
   "execution_count": null,
   "metadata": {},
   "outputs": [],
   "source": []
  },
  {
   "cell_type": "code",
   "execution_count": null,
   "metadata": {},
   "outputs": [],
   "source": [
    "# Check for any remaining NaN values\n",
    "print(data_cleaned.isnull().sum())\n",
    "\n",
    "# Optionally, drop rows with NaN values for the correlation\n",
    "data_cleaned_numeric = data_cleaned_numeric.dropna()\n",
    "\n",
    "# Recompute the correlation matrix\n",
    "corr_matrix = data_cleaned_numeric.corr()\n",
    "\n",
    "# Plot the correlation heatmap\n",
    "plt.figure(figsize=(16, 10))\n",
    "sns.heatmap(corr_matrix, cmap=\"coolwarm\", annot=False, fmt=\".2f\")\n",
    "plt.title(\"Correlation Heatmap\")\n",
    "plt.show()\n"
   ]
  },
  {
   "cell_type": "code",
   "execution_count": null,
   "metadata": {},
   "outputs": [],
   "source": [
    "# By using Correlation grsph we got the correlation between the two variables\n",
    "# Scatter plot for Planetary Radius vs. Mass\n",
    "plt.figure(figsize=(8, 6))\n",
    "sns.scatterplot(x='pl_rade', y='pl_bmasse', data=data_cleaned, hue='discoverymethod', alpha=0.7)\n",
    "plt.title(\"Planet Radius vs Mass (Colored by Discovery Method)\")\n",
    "plt.xlabel(\"Planet Radius [Earth Radii]\")\n",
    "plt.ylabel(\"Planet Mass [Earth Mass]\")\n",
    "plt.legend(loc='best')\n",
    "plt.show()"
   ]
  },
  {
   "cell_type": "code",
   "execution_count": null,
   "metadata": {},
   "outputs": [],
   "source": [
    "# Check for any remaining NaN values\n",
    "print(data_cleaned.isnull().sum())\n",
    "\n",
    "# Optionally, drop rows with NaN values for the correlation\n",
    "data_cleaned_numeric = data_cleaned_numeric.dropna()\n",
    "\n",
    "# Recompute the correlation matrix\n",
    "corr_matrix = data_cleaned_numeric.corr()\n",
    "\n",
    "# Plot the correlation heatmap\n",
    "plt.figure(figsize=(16, 10))\n",
    "sns.heatmap(corr_matrix, cmap=\"coolwarm\", annot=False, fmt=\".2f\")\n",
    "plt.title(\"Correlation Heatmap\")\n",
    "plt.show()\n"
   ]
  },
  {
   "cell_type": "code",
   "execution_count": null,
   "metadata": {},
   "outputs": [],
   "source": [
    "# # Convert the necessary columns to numeric (force errors to NaN)\n",
    "# data_cleaned['pl_rade'] = pd.to_numeric(data_cleaned['pl_rade'], errors='coerce')\n",
    "# data_cleaned['pl_bmasse'] = pd.to_numeric(data_cleaned['pl_bmasse'], errors='coerce')\n",
    "\n",
    "# # Drop rows with NaN values in specific columns for scatter plot\n",
    "# data_cleaned = data_cleaned.dropna(subset=['pl_rade', 'pl_bmasse'])\n",
    "\n",
    "# # Plot the scatter plot again\n",
    "# plt.figure(figsize=(8, 6))\n",
    "# sns.scatterplot(x='pl_rade', y='pl_bmasse', data=data_cleaned, hue='discoverymethod', alpha=0.7)\n",
    "# plt.title(\"Planet Radius vs Mass (Colored by Discovery Method)\")\n",
    "# plt.xlabel(\"Planet Radius [Earth Radii]\")\n",
    "# plt.ylabel(\"Planet Mass [Earth Mass]\")\n",
    "# plt.legend(loc='best')\n",
    "# plt.show()\n"
   ]
  },
  {
   "cell_type": "code",
   "execution_count": null,
   "metadata": {},
   "outputs": [],
   "source": [
    "# Check the basic statistics and ranges of the columns involved\n",
    "print(data_cleaned[['pl_rade', 'pl_bmasse']].describe())\n",
    "\n",
    "# Inspect the first few rows\n",
    "print(data_cleaned[['pl_rade', 'pl_bmasse']].head())\n"
   ]
  },
  {
   "cell_type": "code",
   "execution_count": null,
   "metadata": {},
   "outputs": [],
   "source": [
    "# # Set axis limits to make sure all data is visible\n",
    "# plt.figure(figsize=(8, 6))\n",
    "# sns.scatterplot(x='pl_rade', y='pl_bmasse', data=data_cleaned, hue='discoverymethod', alpha=0.7)\n",
    "# plt.title(\"Planet Radius vs Mass (Colored by Discovery Method)\")\n",
    "# plt.xlabel(\"Planet Radius [Earth Radii]\")\n",
    "# plt.ylabel(\"Planet Mass [Earth Mass]\")\n",
    "# plt.xlim(0, 10)  # Set x-axis range if needed\n",
    "# plt.ylim(0, 100)  # Set y-axis range if needed\n",
    "# plt.legend(loc='best')\n",
    "# plt.show()\n"
   ]
  },
  {
   "cell_type": "code",
   "execution_count": null,
   "metadata": {},
   "outputs": [],
   "source": [
    "# # Check the basic statistics and ranges of the columns involved\n",
    "# print(data_cleaned[['pl_rade', 'pl_bmasse']].describe())\n",
    "\n",
    "\n",
    "# Scatter plot without hue to simplify the plot\n",
    "# plt.figure(figsize=(8, 6))\n",
    "# sns.scatterplot(x='pl_rade', y='pl_bmasse', data=data_cleaned, alpha=0.7)\n",
    "# plt.title(\"Planet Radius vs Mass\")\n",
    "# plt.xlabel(\"Planet Radius [Earth Radii]\")\n",
    "# plt.ylabel(\"Planet Mass [Earth Mass]\")\n",
    "# plt.show()\n",
    "\n",
    "\n",
    "# # Check for remaining NaN values\n",
    "# print(data_cleaned[['pl_rade', 'pl_bmasse']].isnull().sum())\n",
    "\n",
    "# # Inspect the first few rows to ensure the data looks reasonable\n",
    "# print(data_cleaned[['pl_rade', 'pl_bmasse']].head())\n",
    "\n",
    "\n",
    "# # Set axis limits to make sure all data is visible\n",
    "# plt.figure(figsize=(8, 6))\n",
    "# sns.scatterplot(x='pl_rade', y='pl_bmasse', data=data_cleaned, hue='discoverymethod', alpha=0.7)\n",
    "# plt.title(\"Planet Radius vs Mass (Colored by Discovery Method)\")\n",
    "# plt.xlabel(\"Planet Radius [Earth Radii]\")\n",
    "# plt.ylabel(\"Planet Mass [Earth Mass]\")\n",
    "# plt.xlim(0, 10)  # Set x-axis range if needed\n",
    "# plt.ylim(0, 100)  # Set y-axis range if needed\n",
    "# plt.legend(loc='best')\n",
    "# plt.show()\n",
    "\n",
    "\n"
   ]
  },
  {
   "cell_type": "code",
   "execution_count": null,
   "metadata": {},
   "outputs": [],
   "source": [
    "# # Check the number of rows in the dataset\n",
    "# print(\"Number of rows in the dataset:\", len(data_cleaned))\n",
    "\n",
    "# # If the dataset has fewer than 1000 rows, sample all the rows\n",
    "# data_subset = data_cleaned.sample(n=min(1000, len(data_cleaned)))  # Sample either 1000 or fewer rows\n",
    "\n",
    "# # Now plot the subset\n",
    "# plt.figure(figsize=(8, 6))\n",
    "# sns.scatterplot(x='pl_rade', y='pl_bmasse', data=data_subset, hue='discoverymethod', alpha=0.7)\n",
    "# plt.title(\"Planet Radius vs Mass (Colored by Discovery Method)\")\n",
    "# plt.xlabel(\"Planet Radius [Earth Radii]\")\n",
    "# plt.ylabel(\"Planet Mass [Earth Mass]\")\n",
    "# plt.legend(loc='best')\n",
    "# plt.show()\n",
    "\n",
    "\n"
   ]
  },
  {
   "cell_type": "code",
   "execution_count": null,
   "metadata": {},
   "outputs": [],
   "source": [
    "# # Number of discoveries per year\n",
    "# plt.figure(figsize=(12, 6))\n",
    "# discovery_trends = data_cleaned['disc_year'].value_counts().sort_index()\n",
    "# sns.lineplot(x=discovery_trends.index, y=discovery_trends.values)\n",
    "# plt.title(\"Number of Discoveries Over Time\")\n",
    "# plt.xlabel(\"Year\")\n",
    "# plt.ylabel(\"Number of Discoveries\")\n",
    "# plt.show()\n",
    "\n",
    "# Star Map: RA vs Dec\n",
    "plt.figure(figsize=(10, 8))\n",
    "sns.scatterplot(x=data_cleaned['ra'], y=data_cleaned['dec'], alpha=0.5, color='purple')\n",
    "plt.title(\"Star Map (RA vs Dec)\")\n",
    "plt.xlabel(\"RA [deg]\")\n",
    "plt.ylabel(\"Dec [deg]\")\n",
    "plt.show()\n",
    "\n",
    "# Galactic Coordinates\n",
    "plt.figure(figsize=(10, 8))\n",
    "sns.scatterplot(x=data_cleaned['glon'], y=data_cleaned['glat'], alpha=0.5, color='green')\n",
    "plt.title(\"Galactic Coordinates (Longitude vs Latitude)\")\n",
    "plt.xlabel(\"Galactic Longitude [deg]\")\n",
    "plt.ylabel(\"Galactic Latitude [deg]\")\n",
    "plt.show()\n"
   ]
  },
  {
   "cell_type": "code",
   "execution_count": null,
   "metadata": {},
   "outputs": [],
   "source": [
    "# Feature Importance with Random Forest\n",
    "from sklearn.ensemble import RandomForestRegressor\n",
    "\n",
    "# Prepare data\n",
    "target = 'pl_bmasse'  # Example target column\n",
    "features = data_cleaned.drop(columns=[target, 'pl_name', 'hostname'])  # Remove non-numerical IDs\n",
    "X = pd.get_dummies(features, drop_first=True)  # Encode categorical variables\n",
    "y = data_cleaned[target].dropna()  # Drop missing target values\n",
    "\n",
    "# Align features and target\n",
    "X = X.loc[y.index]\n",
    "\n",
    "# Train a Random Forest for feature importance\n",
    "rf = RandomForestRegressor(n_estimators=100, random_state=42)\n",
    "rf.fit(X, y)\n",
    "importances = pd.Series(rf.feature_importances_, index=X.columns).sort_values(ascending=False)\n",
    "\n",
    "# Plot feature importance\n",
    "plt.figure(figsize=(12, 6))\n",
    "importances[:20].plot(kind='bar', color='skyblue')\n",
    "plt.title(\"Top 20 Feature Importances\")\n",
    "plt.xlabel(\"Feature\")\n",
    "plt.ylabel(\"Importance\")\n",
    "plt.show()\n"
   ]
  },
  {
   "cell_type": "code",
   "execution_count": null,
   "metadata": {},
   "outputs": [],
   "source": [
    "# Feature Importance with Random Forest\n",
    "from sklearn.ensemble import RandomForestRegressor\n",
    "\n",
    "# Prepare data\n",
    "target = 'pl_bmasse'  # Example target column\n",
    "features = data_cleaned.drop(columns=[target, 'pl_name', 'hostname'])  # Remove non-numerical IDs\n",
    "X = pd.get_dummies(features, drop_first=True)  # Encode categorical variables\n",
    "y = data_cleaned[target].dropna()  # Drop missing target values\n",
    "\n",
    "# Align features and target\n",
    "X = X.loc[y.index]\n",
    "\n",
    "# Train a Random Forest for feature importance\n",
    "rf = RandomForestRegressor(n_estimators=100, random_state=42)\n",
    "rf.fit(X, y)\n",
    "importances = pd.Series(rf.feature_importances_, index=X.columns).sort_values(ascending=False)\n",
    "\n",
    "# Plot feature importance\n",
    "plt.figure(figsize=(12, 6))\n",
    "importances[:20].plot(kind='bar', color='skyblue')\n",
    "plt.title(\"Top 20 Feature Importances\")\n",
    "plt.xlabel(\"Feature\")\n",
    "plt.ylabel(\"Importance\")\n",
    "plt.show()\n"
   ]
  },
  {
   "cell_type": "code",
   "execution_count": null,
   "metadata": {},
   "outputs": [],
   "source": [
    "# Check the number of rows in the dataset\n",
    "print(\"Number of rows in the dataset:\", len(data_cleaned))"
   ]
  },
  {
   "cell_type": "markdown",
   "metadata": {},
   "source": [
    "# PRJ"
   ]
  },
  {
   "cell_type": "code",
   "execution_count": null,
   "metadata": {},
   "outputs": [],
   "source": []
  }
 ],
 "metadata": {
  "kernelspec": {
   "display_name": "pyENv",
   "language": "python",
   "name": "python3"
  },
  "language_info": {
   "codemirror_mode": {
    "name": "ipython",
    "version": 3
   },
   "file_extension": ".py",
   "mimetype": "text/x-python",
   "name": "python",
   "nbconvert_exporter": "python",
   "pygments_lexer": "ipython3",
   "version": "3.12.5"
  }
 },
 "nbformat": 4,
 "nbformat_minor": 2
}
