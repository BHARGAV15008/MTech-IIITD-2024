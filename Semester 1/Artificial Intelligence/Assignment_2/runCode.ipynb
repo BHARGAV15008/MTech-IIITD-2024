{
 "cells": [
  {
   "cell_type": "code",
   "execution_count": null,
   "metadata": {
    "dotnet_interactive": {
     "language": "csharp"
    },
    "polyglot_notebook": {
     "kernelName": "csharp"
    }
   },
   "outputs": [],
   "source": [
    "%%html\n",
    "<style type='text/css'>\n",
    ".ͼo .cm-scroller {\n",
    "    font-family: 'Monaspace Neon';\n",
    "    font-size: 16px\n",
    "}\n",
    "</style>"
   ]
  },
  {
   "cell_type": "markdown",
   "metadata": {},
   "source": [
    "**_<h3 style=\"color:cyan; text-align:center;\">Boilerplate for AI Assignment — Knowledge Representation, Reasoning and Planning</h3>_**\n",
    "**_<h3 style=\"color:cyan; text-align:center;\">CSE 643</h3>_**\n"
   ]
  },
  {
   "cell_type": "code",
   "execution_count": null,
   "metadata": {
    "dotnet_interactive": {
     "language": "csharp"
    },
    "polyglot_notebook": {
     "kernelName": "csharp"
    }
   },
   "outputs": [],
   "source": [
    "# Import necessary libraries\n",
    "import pandas as pd\n",
    "import numpy as np\n",
    "import matplotlib.pyplot as plt\n",
    "import plotly.graph_objects as go\n",
    "import networkx as nx\n",
    "from pyDatalog import pyDatalog\n",
    "from collections import Counter, defaultdict, deque"
   ]
  },
  {
   "cell_type": "markdown",
   "metadata": {},
   "source": [
    "\\***\\*<h4 style=\"color:Green; font-family:cursive; text-align:center\">IMPORTANT</h4>\\*\\***\n",
    "\n",
    "<li style=\"font-style:italic\">Don't import or use any other libraries other than defined above</li>\n",
    "<li style=\"font-style:italic\">Otherwise your code file will be rejected in the automated testing</li>\n"
   ]
  },
  {
   "cell_type": "code",
   "execution_count": null,
   "metadata": {
    "dotnet_interactive": {
     "language": "csharp"
    },
    "polyglot_notebook": {
     "kernelName": "csharp"
    }
   },
   "outputs": [],
   "source": [
    "# ------------------ Global Variables ------------------\n",
    "route_to_stops = defaultdict(list)  # Mapping of route IDs to lists of stops\n",
    "trip_to_route = {}                   # Mapping of trip IDs to route IDs\n",
    "stop_trip_count = defaultdict(int)    # Count of trips for each stop\n",
    "fare_rules = {}                      # Mapping of route IDs to fare information\n",
    "merged_fare_df = None                # To be initialized in create_kb()\n",
    "\n",
    "# Load static data from GTFS (General Transit Feed Specification) files\n",
    "df_stops = pd.read_csv('GTFS/stops.txt')\n",
    "df_routes = pd.read_csv('GTFS/routes.txt')\n",
    "df_stop_times = pd.read_csv('GTFS/stop_times.txt')\n",
    "df_fare_attributes = pd.read_csv('GTFS/fare_attributes.txt')\n",
    "df_trips = pd.read_csv('GTFS/trips.txt')\n",
    "df_fare_rules = pd.read_csv('GTFS/fare_rules.txt')"
   ]
  },
  {
   "cell_type": "code",
   "execution_count": null,
   "metadata": {},
   "outputs": [],
   "source": [
    "print(df_stops.head())\n",
    "print(df_routes.head())\n",
    "print(df_stop_times.head())\n",
    "print(df_fare_attributes.head())\n",
    "print(df_trips.head())\n",
    "print(df_fare_rules.head())"
   ]
  },
  {
   "cell_type": "markdown",
   "metadata": {},
   "source": [
    "<h4 style=\"text-align:center; color:lightblue; font-style:italic;\"> ------------------ Function Definitions ------------------</h4>\n",
    "<h4 style=\"text-align:center; color:lightblue; font-style:italic;\"> Function to create knowledge base from the loaded data</h4>\n"
   ]
  },
  {
   "cell_type": "code",
   "execution_count": null,
   "metadata": {
    "dotnet_interactive": {
     "language": "csharp"
    },
    "polyglot_notebook": {
     "kernelName": "csharp"
    }
   },
   "outputs": [],
   "source": [
    "# def create_kb():\n",
    "#     \"\"\"\n",
    "#     Create knowledge base by populating global variables with information from loaded datasets.\n",
    "#     It establishes the relationships between routes, trips, stops, and fare rules.\n",
    "    \n",
    "#     Returns:\n",
    "#         None\n",
    "#     \"\"\"\n",
    "#     global route_to_stops, trip_to_route, stop_trip_count, fare_rules, merged_fare_df\n",
    "\n",
    "#     # Create trip_id to r_id mapping\n",
    "#     trip_to_route = {rps['trip_id']: rps['route_id'] for rps in df_trips.to_dict('records')}\n",
    "\n",
    "#     for rps in df_stop_times.to_dict('records'):\n",
    "#         route_id = trip_to_route[rps['trip_id']]\n",
    "#         stop_id = rps['stop_id']\n",
    "\n",
    "#         route_to_stops.setdefault(route_id, []).append(stop_id)\n",
    "#         fare_rules.setdefault(stop_id, []).append(route_id)\n",
    "#         stop_trip_count[stop_id] = stop_trip_count.get(stop_id, 0) + 1\n",
    "\n",
    "#     for r_id in route_to_stops:\n",
    "#         route_to_stops[r_id] = sorted(set(route_to_stops[r_id]))\n",
    "#         fare_rules[r_id] = sorted(set(fare_rules.get(r_id, [])))"
   ]
  },
  {
   "cell_type": "code",
   "execution_count": null,
   "metadata": {},
   "outputs": [],
   "source": [
    "def create_kb():\n",
    "    \"\"\"\n",
    "    Create knowledge base by populating global variables with information from loaded datasets.\n",
    "    It establishes the relationships between routes, trips, stops, and fare rules.\n",
    "    \"\"\"\n",
    "    global route_to_stops, trip_to_route, stop_trip_count, fare_rules, merged_fare_df\n",
    "    \n",
    "    # Create dictionaries to store temporary data\n",
    "    temp_route_stops = defaultdict(set)  # Using set to ensure unique stops per route\n",
    "    route_frequencies = defaultdict(int)  # To track route frequencies\n",
    "    \n",
    "    # Create trip_id to route_id mapping\n",
    "    trip_to_route.clear()\n",
    "    trip_to_route.update(dict(zip(df_trips['trip_id'], df_trips['route_id'])))\n",
    "    \n",
    "    # Process stop times to build route_to_stops and count trips\n",
    "    for _, row in df_stop_times.iterrows():\n",
    "        trip_id = row['trip_id']\n",
    "        stop_id = row['stop_id']\n",
    "        \n",
    "        if trip_id in trip_to_route:\n",
    "            route_id = trip_to_route[trip_id]\n",
    "            temp_route_stops[route_id].add(stop_id)\n",
    "            stop_trip_count[stop_id] += 1\n",
    "            route_frequencies[route_id] += 1\n",
    "    \n",
    "    # Convert sets to sorted lists for consistent ordering\n",
    "    route_to_stops.clear()\n",
    "    for route_id, stops in temp_route_stops.items():\n",
    "        route_to_stops[route_id] = list(stops)\n",
    "    \n",
    "    # Initialize fare rules\n",
    "    fare_rules.clear()\n",
    "    merged_df = pd.merge(df_fare_rules, df_fare_attributes, on='fare_id')\n",
    "    for _, row in merged_df.iterrows():\n",
    "        route_id = row['route_id']\n",
    "        fare_amount = row['price']\n",
    "        fare_rules[route_id] = fare_amount"
   ]
  },
  {
   "cell_type": "code",
   "execution_count": null,
   "metadata": {
    "dotnet_interactive": {
     "language": "csharp"
    },
    "polyglot_notebook": {
     "kernelName": "csharp"
    }
   },
   "outputs": [],
   "source": [
    "create_kb()"
   ]
  },
  {
   "cell_type": "code",
   "execution_count": null,
   "metadata": {
    "dotnet_interactive": {
     "language": "csharp"
    },
    "polyglot_notebook": {
     "kernelName": "csharp"
    }
   },
   "outputs": [],
   "source": [
    "# # Now you can access the information in the global variables:\n",
    "print(route_to_stops)\n",
    "# print(trip_to_route)\n",
    "# print(stop_trip_count)\n",
    "# print(fare_rules) "
   ]
  },
  {
   "cell_type": "code",
   "execution_count": null,
   "metadata": {
    "dotnet_interactive": {
     "language": "csharp"
    },
    "polyglot_notebook": {
     "kernelName": "csharp"
    }
   },
   "outputs": [],
   "source": [
    "# Function to find the top 5 busiest routes based on the number of trips\n",
    "def get_busiest_routes():\n",
    "    \"\"\"\n",
    "    Identify the top 5 busiest routes based on trip counts.\n",
    "\n",
    "    Returns:\n",
    "        list: A list of tuples, where each tuple contains:\n",
    "              - route_id (int): The ID of the route.\n",
    "              - trip_count (int): The number of trips for that route.\n",
    "    \"\"\"\n",
    "\n",
    "    return Counter(trip_to_route.values()).most_common(5)"
   ]
  },
  {
   "cell_type": "code",
   "execution_count": null,
   "metadata": {
    "dotnet_interactive": {
     "language": "csharp"
    },
    "polyglot_notebook": {
     "kernelName": "csharp"
    }
   },
   "outputs": [],
   "source": [
    "get_busiest_routes()\n",
    "\n",
    "# [(5721, 318), (5722, 318), (674, 313), (593, 311), (5254, 272)]"
   ]
  },
  {
   "cell_type": "code",
   "execution_count": null,
   "metadata": {
    "dotnet_interactive": {
     "language": "csharp"
    },
    "polyglot_notebook": {
     "kernelName": "csharp"
    }
   },
   "outputs": [],
   "source": [
    "# Function to find the top 5 stops with the most frequent trips\n",
    "def get_most_frequent_stops():\n",
    "    \"\"\"\n",
    "    Identify the top 5 stops with the highest number of trips.\n",
    "\n",
    "    Returns:\n",
    "        list: A list of tuples, where each tuple contains:\n",
    "              - stop_id (int): The ID of the stop.\n",
    "              - trip_count (int): The number of trips for that stop.\n",
    "    \"\"\"\n",
    "\n",
    "    # # Sorts the stops by trip count in descending order and returns the top 5\n",
    "    # return sorted(stop_trip_count.items(), key=lambda x: x[1], reverse=True)[:5]\n",
    "\n",
    "    return Counter(stop_trip_count).most_common(5)"
   ]
  },
  {
   "cell_type": "code",
   "execution_count": null,
   "metadata": {
    "dotnet_interactive": {
     "language": "csharp"
    },
    "polyglot_notebook": {
     "kernelName": "csharp"
    }
   },
   "outputs": [],
   "source": [
    "get_most_frequent_stops()\n",
    "\n",
    "# [(10225, 4115), (10221, 4049), (149, 3998), (488, 3996), (233, 3787)]"
   ]
  },
  {
   "cell_type": "code",
   "execution_count": null,
   "metadata": {
    "dotnet_interactive": {
     "language": "csharp"
    },
    "polyglot_notebook": {
     "kernelName": "csharp"
    }
   },
   "outputs": [],
   "source": [
    "# Function to find the top 5 busiest stops based on the number of rts passing through them\n",
    "def get_top_5_busiest_stops():\n",
    "    \"\"\"\n",
    "    Identify the top 5 stops with the highest number of different routes.\n",
    "\n",
    "    Returns:\n",
    "        list: A list of tuples, where each tuple contains:\n",
    "              - stop_id (int): The ID of the stop.\n",
    "              - route_count (int): The number of routes passing through that stop.\n",
    "    \"\"\"\n",
    "\n",
    "    route_counts = Counter()\n",
    "    for rts in route_to_stops.values():\n",
    "        route_counts.update(rts)\n",
    "\n",
    "    return route_counts.most_common(5)"
   ]
  },
  {
   "cell_type": "code",
   "execution_count": null,
   "metadata": {
    "dotnet_interactive": {
     "language": "csharp"
    },
    "polyglot_notebook": {
     "kernelName": "csharp"
    }
   },
   "outputs": [],
   "source": [
    "get_top_5_busiest_stops()\n",
    "\n",
    "# [(488, 102), (10225, 101), (149, 99), (233, 95), (10221, 86)]"
   ]
  },
  {
   "cell_type": "code",
   "execution_count": null,
   "metadata": {
    "dotnet_interactive": {
     "language": "csharp"
    },
    "polyglot_notebook": {
     "kernelName": "csharp"
    }
   },
   "outputs": [],
   "source": [
    "# Function to identify the top 5 pairs of stops with only one direct route between them\n",
    "def get_stops_with_one_direct_route():\n",
    "    \"\"\"\n",
    "    Identify the top 5 pairs of consecutive stops (start and end) connected by exactly one direct route. \n",
    "    The pairs are sorted by the combined frequency of trips passing through both stops.\n",
    "\n",
    "    Returns:\n",
    "        list: A list of tuples, where each tuple contains:\n",
    "              - pair (tuple): A tuple with two stop IDs (stop_1, stop_2).\n",
    "              - r_id (int): The ID of the route connecting the two stops.\n",
    "    \"\"\"\n",
    "\n",
    "    stop_pair_data = defaultdict(lambda: {'routes': set(), 'trips': 0})\n",
    "\n",
    "    for r_id, stp in route_to_stops.items():\n",
    "        for i in range(len(stp) - 1):\n",
    "            start, end = stp[i], stp[i + 1]\n",
    "            pair = (start, end)\n",
    "            stop_pair_data[pair]['routes'].add(r_id)\n",
    "            stop_pair_data[pair]['trips'] += stop_trip_count[start] + stop_trip_count[end]\n",
    "\n",
    "    single_route_pairs = [(pair, next(iter(data['routes']))) \n",
    "                         for pair, data in stop_pair_data.items() \n",
    "                         if len(data['routes']) == 1]\n",
    "\n",
    "    return sorted(single_route_pairs, key=lambda x: stop_pair_data[x[0]]['trips'], reverse=True)[:5]"
   ]
  },
  {
   "cell_type": "code",
   "execution_count": null,
   "metadata": {
    "dotnet_interactive": {
     "language": "csharp"
    },
    "polyglot_notebook": {
     "kernelName": "csharp"
    }
   },
   "outputs": [],
   "source": [
    "get_stops_with_one_direct_route()\n",
    "\n",
    "# [((233, 634), 10574),\n",
    "#  ((10096, 10221), 5555),\n",
    "#  ((233, 300), 719),\n",
    "#  ((10120, 10775), 5599),\n",
    "#  ((10020, 10221), 5024)]"
   ]
  },
  {
   "cell_type": "code",
   "execution_count": null,
   "metadata": {
    "dotnet_interactive": {
     "language": "csharp"
    },
    "polyglot_notebook": {
     "kernelName": "csharp"
    }
   },
   "outputs": [],
   "source": [
    "# Function to get merged fare DataFrame\n",
    "# No need to change this function\n",
    "def get_merged_fare_df():\n",
    "    \"\"\"\n",
    "    Retrieve the merged fare DataFrame.\n",
    "\n",
    "    Returns:\n",
    "        DataFrame: The merged fare DataFrame containing fare rules and attributes.\n",
    "    \"\"\"\n",
    "    global merged_fare_df\n",
    "    if merged_fare_df is None:\n",
    "        create_kb()\n",
    "        merged_fare_df = (\n",
    "            pd.merge(df_fare_rules, df_fare_attributes, on=\"fare_id\")\n",
    "            .drop_duplicates(subset='fare_id', keep='first')\n",
    "            .sort_values(by='fare_id')\n",
    "            .reset_index(drop=True)\n",
    "        )\n",
    "    return merged_fare_df"
   ]
  },
  {
   "cell_type": "code",
   "execution_count": null,
   "metadata": {
    "dotnet_interactive": {
     "language": "csharp"
    },
    "polyglot_notebook": {
     "kernelName": "csharp"
    }
   },
   "outputs": [],
   "source": [
    "get_merged_fare_df()\n",
    "\n",
    "# \tfare_id\troute_id\torigin_id\tdestination_id\tprice\tcurrency_type\tpayment_method\ttransfers\tagency_id\told_fare_id\n",
    "# 0\tDIMTS_10001_1177_1178\t10001\t1177\t1178\t5.0\tINR\t0\t0\tDIMTS\tDIMTS_10001_1177_1178\n",
    "# 1\tDIMTS_10001_1177_1179\t10001\t1177\t1179\t5.0\tINR\t0\t0\tDIMTS\tDIMTS_10001_1177_1179\n",
    "# 2\tDIMTS_10001_1177_1180\t10001\t1177\t1180\t5.0\tINR\t0\t0\tDIMTS\tDIMTS_10001_1177_1180\n",
    "# 3\tDIMTS_10001_1177_1181\t10001\t1177\t1181\t5.0\tINR\t0\t0\tDIMTS\tDIMTS_10001_1177_1181\n",
    "# 4\tDIMTS_10001_1177_1182\t10001\t1177\t1182\t5.0\tINR\t0\t0\tDIMTS\tDIMTS_10001_1177_1182\n"
   ]
  },
  {
   "cell_type": "code",
   "execution_count": null,
   "metadata": {
    "dotnet_interactive": {
     "language": "csharp"
    },
    "polyglot_notebook": {
     "kernelName": "csharp"
    }
   },
   "outputs": [],
   "source": [
    "# Visualize the stop-route graph interactively\n",
    "def visualize_stop_route_graph_interactive(route_to_stops):\n",
    "    \"\"\"\n",
    "    Visualize the stop-route graph using Plotly for interactive exploration.\n",
    "\n",
    "    Args:\n",
    "        route_to_stops (dict): A dictionary mapping route IDs to lists of stops.\n",
    "\n",
    "    Returns:\n",
    "        None\n",
    "    \"\"\"\n",
    "    # Genetating graph instance using Plotly for interactive exploration\n",
    "    graph = nx.Graph()\n",
    "\n",
    "    # Add nodes and edges to the graph\n",
    "    for r_id, stp in route_to_stops.items():\n",
    "        for i in range(len(stp) - 1):\n",
    "            graph.add_edge(f\"Stop_{stp[i]}\", f\"Stop_{stp[i+1]}\", route=str(r_id))\n",
    "\n",
    "    pos = nx.spring_layout(graph)\n",
    "\n",
    "    # building edge trace\n",
    "    edge_trace = go.Scatter(\n",
    "        x=[pos[n1][i] for n1, n2 in graph.edges() for i in range(2)], \n",
    "        y=[pos[n1][j] for n1, n2 in graph.edges() for j in range(2)],\n",
    "        line=dict(width=0.5, color='#888'),\n",
    "        hoverinfo='text',\n",
    "        text=[f\"Route: {graph[n1][n2]['route']}\" for n1, n2 in graph.edges()],\n",
    "        mode='lines'\n",
    "    )\n",
    "\n",
    "    # Building node trace\n",
    "    node_trace = go.Scatter(\n",
    "        x=[pos[n][0] for n in graph.nodes()], \n",
    "        y=[pos[n][1] for n in graph.nodes()],\n",
    "        mode='markers',\n",
    "        hoverinfo='text',\n",
    "        text=list(graph.nodes()), \n",
    "        marker=dict(size=10, color='#1f77b4', line_width=2)\n",
    "    )\n",
    "\n",
    "    # Building figure\n",
    "    fig = go.Figure(\n",
    "        data=[edge_trace, node_trace],\n",
    "        layout=go.Layout(\n",
    "            title='Delhi Bus Routes Network',\n",
    "            showlegend=False,\n",
    "            hovermode='closest',\n",
    "            margin=dict(b=20, l=5, r=5, t=40),\n",
    "            xaxis=dict(showgrid=False, zeroline=False, showticklabels=False),\n",
    "            yaxis=dict(showgrid=False, zeroline=False, showticklabels=False)\n",
    "        )\n",
    "    )\n",
    "\n",
    "    fig.show()"
   ]
  },
  {
   "cell_type": "code",
   "execution_count": null,
   "metadata": {
    "dotnet_interactive": {
     "language": "csharp"
    },
    "polyglot_notebook": {
     "kernelName": "csharp"
    }
   },
   "outputs": [],
   "source": [
    "visualize_stop_route_graph_interactive(route_to_stops)"
   ]
  },
  {
   "cell_type": "code",
   "execution_count": null,
   "metadata": {
    "dotnet_interactive": {
     "language": "csharp"
    },
    "polyglot_notebook": {
     "kernelName": "csharp"
    }
   },
   "outputs": [],
   "source": [
    "# Brute-Force Approach for finding direct routes\n",
    "def direct_route_brute_force(start_stop, end_stop):\n",
    "    \"\"\"\n",
    "    Find all valid routes between two stops using a brute-force method.\n",
    "\n",
    "    Args:\n",
    "        start_stop (int): The ID of the starting stop.\n",
    "        end_stop (int): The ID of the ending stop.\n",
    "\n",
    "    Returns:\n",
    "        list: A list of route IDs (int) that connect the two stops directly.\n",
    "    \"\"\"\n",
    "    # Generate all possible routes\n",
    "    routes = []\n",
    "    for r_id, stp in route_to_stops.items():\n",
    "        if start_stop in stp and end_stop in stp:\n",
    "            routes.append(r_id)\n",
    "\n",
    "    # Find all valid routes\n",
    "    valid_routes = []\n",
    "    for r_id in routes:\n",
    "        if start_stop in route_to_stops[r_id] and end_stop in route_to_stops[r_id]:\n",
    "            valid_routes.append(r_id)\n",
    "\n",
    "    return valid_routes"
   ]
  },
  {
   "cell_type": "code",
   "execution_count": null,
   "metadata": {
    "dotnet_interactive": {
     "language": "csharp"
    },
    "polyglot_notebook": {
     "kernelName": "csharp"
    }
   },
   "outputs": [],
   "source": [
    "direct_route_brute_force(2001, 2005)"
   ]
  },
  {
   "cell_type": "code",
   "execution_count": null,
   "metadata": {
    "dotnet_interactive": {
     "language": "csharp"
    },
    "polyglot_notebook": {
     "kernelName": "csharp"
    }
   },
   "outputs": [],
   "source": [
    "# Initialize Datalog predicates for reasoning\n",
    "pyDatalog.create_terms('RouteHasStop, DirectRoute, OptimalRoute, X, Y, Z, R, R1, R2')  \n",
    "def initialize_datalog():\n",
    "    \"\"\"\n",
    "    Initialize Datalog terms and predicates for reasoning about routes and stops.\n",
    "\n",
    "    Returns:\n",
    "        None\n",
    "    \"\"\"\n",
    "    # # Define the RouteHasStop predicate to represent the relationship between a route and a stop\n",
    "    # for r_id, stp in route_to_stops.items():\n",
    "    #     for st_seq, st_id in enumerate(stp, 1):\n",
    "    #         +RouteHasStop(r_id, st_id, st_seq)  \n",
    "\n",
    "        \n",
    "    #     for i in range(len(stp) - 1):\n",
    "    #         +DirectRoute(r_id, stp[i], stp[i + 1])\n",
    "    # DirectRoute means you can travel directly between two stops on the same route\n",
    "    DirectRoute(R, X, Y) <= RouteHasStop(R, X, Z) & RouteHasStop(R, Y, Y.Z) & (Y.Z == Z + 1)\n",
    "    \n",
    "    # OptimalRoute includes both direct routes and routes with one transfer\n",
    "    OptimalRoute(X, Y, R) <= DirectRoute(R, X, Y)\n",
    "\n",
    "    create_kb()  # Populate the knowledge base\n",
    "    add_route_data(route_to_stops)  # Add route data to Datalog"
   ]
  },
  {
   "cell_type": "code",
   "execution_count": null,
   "metadata": {
    "dotnet_interactive": {
     "language": "csharp"
    },
    "polyglot_notebook": {
     "kernelName": "csharp"
    }
   },
   "outputs": [],
   "source": [
    "initialize_datalog()"
   ]
  },
  {
   "cell_type": "code",
   "execution_count": null,
   "metadata": {
    "dotnet_interactive": {
     "language": "csharp"
    },
    "polyglot_notebook": {
     "kernelName": "csharp"
    }
   },
   "outputs": [],
   "source": [
    "# Adding route data to Datalog\n",
    "def add_route_data(route_to_stops):\n",
    "    \"\"\"\n",
    "    Add the route data to Datalog for reasoning.\n",
    "\n",
    "    Args:\n",
    "        route_to_stops (dict): A dictionary mapping route IDs to lists of stops.\n",
    "\n",
    "    Returns:\n",
    "        None\n",
    "    \"\"\"\n",
    "    # Create a new Datalog program\n",
    "    \n",
    "    for r_id, stp in route_to_stops.items():\n",
    "        for st_seq, st_id in enumerate(stp, 1):\n",
    "            +RouteHasStop(r_id, st_id, st_seq) "
   ]
  },
  {
   "cell_type": "code",
   "execution_count": null,
   "metadata": {
    "dotnet_interactive": {
     "language": "csharp"
    },
    "polyglot_notebook": {
     "kernelName": "csharp"
    }
   },
   "outputs": [],
   "source": [
    "add_route_data(route_to_stops)"
   ]
  },
  {
   "cell_type": "code",
   "execution_count": null,
   "metadata": {
    "dotnet_interactive": {
     "language": "csharp"
    },
    "polyglot_notebook": {
     "kernelName": "csharp"
    }
   },
   "outputs": [],
   "source": [
    "route_to_stops"
   ]
  },
  {
   "cell_type": "code",
   "execution_count": null,
   "metadata": {
    "dotnet_interactive": {
     "language": "csharp"
    },
    "polyglot_notebook": {
     "kernelName": "csharp"
    }
   },
   "outputs": [],
   "source": [
    "# # Function to query direct routes between two stops\n",
    "# def query_direct_routes(start, end):\n",
    "#     \"\"\"\n",
    "#     Query for direct routes between two stops.\n",
    "\n",
    "#     Args:\n",
    "#         start (int): The ID of the starting stop.\n",
    "#         end (int): The ID of the ending stop.\n",
    "\n",
    "#     Returns:\n",
    "#         list: A sorted list of route IDs (str) connecting the two stops.\n",
    "#     \"\"\"\n",
    "#     # Query the database for direct routes between the two stops\n",
    "#     return [r_id for (r_id,) in pyDatalog.ask(f\"DirectRoute({start}, {end}, X)\").answers]"
   ]
  },
  {
   "cell_type": "code",
   "execution_count": null,
   "metadata": {
    "dotnet_interactive": {
     "language": "csharp"
    },
    "polyglot_notebook": {
     "kernelName": "csharp"
    }
   },
   "outputs": [],
   "source": [
    "def query_direct_routes(start, end):\n",
    "    \"\"\"\n",
    "    Query for direct routes between two stops.\n",
    "\n",
    "    Args:\n",
    "        start (int): The ID of the starting stop.\n",
    "        end (int): The ID of the ending stop.\n",
    "\n",
    "    Returns:\n",
    "        list: A sorted list of route IDs connecting the two stops directly in order.\n",
    "    \"\"\"\n",
    "    direct_routes = []\n",
    "    for r_id, stps in route_to_stops.items():\n",
    "        if start in stps and end in stps:\n",
    "            direct_routes.append(r_id)\n",
    "    \n",
    "    # Return unique, sorted route IDs\n",
    "    return direct_routes"
   ]
  },
  {
   "cell_type": "code",
   "execution_count": null,
   "metadata": {
    "dotnet_interactive": {
     "language": "csharp"
    },
    "polyglot_notebook": {
     "kernelName": "csharp"
    }
   },
   "outputs": [],
   "source": [
    "query_direct_routes(2001, 2005)"
   ]
  },
  {
   "cell_type": "code",
   "execution_count": null,
   "metadata": {
    "dotnet_interactive": {
     "language": "csharp"
    },
    "polyglot_notebook": {
     "kernelName": "csharp"
    }
   },
   "outputs": [],
   "source": [
    "# def backward_chaining(start_stop_id, end_stop_id, stop_id_to_include, max_transfers):\n",
    "#     paths = []\n",
    "#     visited = set()\n",
    "    \n",
    "#     def dfs(current_stop, path, transfers):\n",
    "#         if transfers > max_transfers:\n",
    "#             return\n",
    "        \n",
    "#         if current_stop == start_stop_id:\n",
    "#             if stop_id_to_include in [stop for _, stop, _ in path]:\n",
    "#                 paths.append(list(reversed(path)))\n",
    "#             return\n",
    "        \n",
    "#         visited.add(current_stop)\n",
    "        \n",
    "#         for route_id, stops in route_to_stops.items():\n",
    "#             if current_stop in stops:\n",
    "#                 prev_stop_index = stops.index(current_stop) - 1\n",
    "#                 if prev_stop_index >= 0:\n",
    "#                     prev_stop = stops[prev_stop_index]\n",
    "#                     if prev_stop not in visited:\n",
    "#                         new_path = [(route_id, prev_stop, route_id)] + path\n",
    "#                         dfs(prev_stop, new_path, transfers)\n",
    "                        \n",
    "#         for route_id, stops in route_to_stops.items():\n",
    "#             if current_stop in stops:\n",
    "#                 for transfer_route, transfer_stops in route_to_stops.items():\n",
    "#                     if route_id != transfer_route and current_stop in transfer_stops:\n",
    "#                         prev_stop_index = transfer_stops.index(current_stop) - 1\n",
    "#                         if prev_stop_index >= 0:\n",
    "#                             prev_stop = transfer_stops[prev_stop_index]\n",
    "#                             if prev_stop not in visited:\n",
    "#                                 new_path = [(transfer_route, prev_stop, route_id)] + path\n",
    "#                                 dfs(prev_stop, new_path, transfers + 1)\n",
    "        \n",
    "#         visited.remove(current_stop)\n",
    "    \n",
    "#     dfs(end_stop_id, [], 0)\n",
    "#     return paths"
   ]
  },
  {
   "cell_type": "code",
   "execution_count": null,
   "metadata": {},
   "outputs": [],
   "source": [
    "# def forward_chaining(start_stop_id, end_stop_id, stop_id_to_include, max_transfers):\n",
    "#     \"\"\"\n",
    "#     Perform forward chaining to find optimal routes considering transfers.\n",
    "#     \"\"\"\n",
    "#     paths = []\n",
    "#     visited_route_stops = set()\n",
    "\n",
    "#     def get_routes_through_stop(stop_id):\n",
    "#         \"\"\"Get all routes that pass through a specific stop.\"\"\"\n",
    "#         stop_routes = []\n",
    "#         for route_id, stops in route_to_stops.items():\n",
    "#             if stop_id in stops:\n",
    "#                 stop_routes.append(route_id)\n",
    "#         return stop_routes\n",
    "\n",
    "#     def explore_route(route_id, current_stop):\n",
    "#         \"\"\"Get all possible destination stops for a given route and current stop.\"\"\"\n",
    "#         stops = route_to_stops[route_id]\n",
    "#         try:\n",
    "#             current_idx = stops.index(current_stop)\n",
    "#             possible_destinations = []\n",
    "#             # Consider all stops after current_stop in the route\n",
    "#             for idx in range(current_idx + 1, len(stops)):\n",
    "#                 possible_destinations.append(stops[idx])\n",
    "#             return possible_destinations\n",
    "#         except ValueError:\n",
    "#             return []\n",
    "\n",
    "#     def find_paths(current_stop, visited):\n",
    "#         \"\"\"Find all valid paths from current stop.\"\"\"\n",
    "#         if len(visited) > max_transfers + 1:\n",
    "#             return\n",
    "\n",
    "#         # If we reached the end stop and satisfied the inclusion constraint\n",
    "#         if current_stop == end_stop_id:\n",
    "#             if stop_id_to_include is None or stop_id_to_include in {v[1] for v in visited}:\n",
    "#                 paths.append(visited)\n",
    "#             return\n",
    "\n",
    "#         # Get all routes passing through current stop\n",
    "#         current_routes = get_routes_through_stop(current_stop)\n",
    "        \n",
    "#         for route_id in current_routes:\n",
    "#             # Get possible next stops on this route\n",
    "#             next_stops = explore_route(route_id, current_stop)\n",
    "            \n",
    "#             for next_stop in next_stops:\n",
    "#                 # Create route-stop pattern\n",
    "#                 route_stop = (route_id, current_stop, next_stop)\n",
    "                \n",
    "#                 if route_stop not in visited_route_stops:\n",
    "#                     visited_route_stops.add(route_stop)\n",
    "#                     find_paths(next_stop, visited + [route_stop])\n",
    "#                     visited_route_stops.remove(route_stop)\n",
    "\n",
    "#     # Start exploration from initial stop\n",
    "#     find_paths(start_stop_id, [])\n",
    "    \n",
    "#     # Format paths to match test case format\n",
    "#     formatted_paths = []\n",
    "#     for path in paths:\n",
    "#         if len(path) <= max_transfers + 1:  # Only include paths within transfer limit\n",
    "#             formatted_paths.append(path)\n",
    "    \n",
    "#     return formatted_paths\n",
    "\n",
    "# def backward_chaining(start_stop_id, end_stop_id, stop_id_to_include, max_transfers):\n",
    "#     \"\"\"\n",
    "#     Perform backward chaining to find optimal routes considering transfers.\n",
    "#     \"\"\"\n",
    "#     paths = []\n",
    "#     visited_route_stops = set()\n",
    "\n",
    "#     def get_routes_through_stop(stop_id):\n",
    "#         \"\"\"Get all routes that pass through a specific stop.\"\"\"\n",
    "#         stop_routes = []\n",
    "#         for route_id, stops in route_to_stops.items():\n",
    "#             if stop_id in stops:\n",
    "#                 stop_routes.append(route_id)\n",
    "#         return stop_routes\n",
    "\n",
    "#     def explore_route_backward(route_id, current_stop):\n",
    "#         \"\"\"Get all possible origin stops for a given route and current stop.\"\"\"\n",
    "#         stops = route_to_stops[route_id]\n",
    "#         try:\n",
    "#             current_idx = stops.index(current_stop)\n",
    "#             possible_origins = []\n",
    "#             # Consider all stops before current_stop in the route\n",
    "#             for idx in range(current_idx - 1, -1, -1):\n",
    "#                 possible_origins.append(stops[idx])\n",
    "#             return possible_origins\n",
    "#         except ValueError:\n",
    "#             return []\n",
    "\n",
    "#     def find_paths_backward(current_stop, visited):\n",
    "#         \"\"\"Find all valid paths backwards from current stop.\"\"\"\n",
    "#         if len(visited) > max_transfers + 1:\n",
    "#             return\n",
    "\n",
    "#         # If we reached the start stop and satisfied the inclusion constraint\n",
    "#         if current_stop == start_stop_id:\n",
    "#             if stop_id_to_include is None or stop_id_to_include in {v[1] for v in visited}:\n",
    "#                 paths.append(list(reversed(visited)))\n",
    "#             return\n",
    "\n",
    "#         # Get all routes passing through current stop\n",
    "#         current_routes = get_routes_through_stop(current_stop)\n",
    "        \n",
    "#         for route_id in current_routes:\n",
    "#             # Get possible previous stops on this route\n",
    "#             prev_stops = explore_route_backward(route_id, current_stop)\n",
    "            \n",
    "#             for prev_stop in prev_stops:\n",
    "#                 # Create route-stop pattern\n",
    "#                 route_stop = (route_id, prev_stop, current_stop)\n",
    "                \n",
    "#                 if route_stop not in visited_route_stops:\n",
    "#                     visited_route_stops.add(route_stop)\n",
    "#                     find_paths_backward(prev_stop, visited + [route_stop])\n",
    "#                     visited_route_stops.remove(route_stop)\n",
    "\n",
    "#     # Start exploration from end stop\n",
    "#     find_paths_backward(end_stop_id, [])\n",
    "    \n",
    "#     # Format paths to match test case format\n",
    "#     formatted_paths = []\n",
    "#     for path in paths:\n",
    "#         if len(path) <= max_transfers + 1:  # Only include paths within transfer limit\n",
    "#             formatted_paths.append(path)\n",
    "    \n",
    "#     return formatted_paths\n",
    "\n",
    "# def pddl_planning(start_stop_id, end_stop_id, stop_id_to_include, max_transfers):\n",
    "#     \"\"\"\n",
    "#     Implement PDDL-style planning to find routes with optional transfers.\n",
    "#     \"\"\"\n",
    "#     paths = []\n",
    "#     visited_route_stops = set()\n",
    "\n",
    "#     class PlanningState:\n",
    "#         def __init__(self, current_stop, path, transfers):\n",
    "#             self.current_stop = current_stop\n",
    "#             self.path = path\n",
    "#             self.transfers = transfers\n",
    "#             self.included_required = (stop_id_to_include is None or \n",
    "#                                     stop_id_to_include in {p[1] for p in path})\n",
    "\n",
    "#     def get_routes_through_stop(stop_id):\n",
    "#         \"\"\"Get all routes that pass through a specific stop.\"\"\"\n",
    "#         stop_routes = []\n",
    "#         for route_id, stops in route_to_stops.items():\n",
    "#             if stop_id in stops:\n",
    "#                 stop_routes.append(route_id)\n",
    "#         return stop_routes\n",
    "\n",
    "#     def get_next_stops(route_id, current_stop):\n",
    "#         \"\"\"Get next possible stops on a route.\"\"\"\n",
    "#         stops = route_to_stops[route_id]\n",
    "#         try:\n",
    "#             current_idx = stops.index(current_stop)\n",
    "#             return [(s, idx) for idx, s in enumerate(stops) if idx > current_idx]\n",
    "#         except ValueError:\n",
    "#             return []\n",
    "\n",
    "#     # Initialize planning\n",
    "#     initial_state = PlanningState(start_stop_id, [], 0)\n",
    "#     frontier = deque([initial_state])\n",
    "#     explored = set()\n",
    "\n",
    "#     while frontier:\n",
    "#         current_state = frontier.popleft()\n",
    "\n",
    "#         # Check if goal state reached\n",
    "#         if (current_state.current_stop == end_stop_id and \n",
    "#             current_state.included_required and \n",
    "#             current_state.transfers <= max_transfers):\n",
    "#             paths.append(current_state.path)\n",
    "#             continue\n",
    "\n",
    "#         if current_state.transfers > max_transfers:\n",
    "#             continue\n",
    "\n",
    "#         state_key = (current_state.current_stop, \n",
    "#                     tuple(sorted((r, s1, s2) for r, s1, s2 in current_state.path)))\n",
    "#         if state_key in explored:\n",
    "#             continue\n",
    "#         explored.add(state_key)\n",
    "\n",
    "#         # Get possible actions (routes) from current stop\n",
    "#         current_routes = get_routes_through_stop(current_state.current_stop)\n",
    "        \n",
    "#         for route_id in current_routes:\n",
    "#             next_stops = get_next_stops(route_id, current_state.current_stop)\n",
    "            \n",
    "#             for next_stop, _ in next_stops:\n",
    "#                 route_stop = (route_id, current_state.current_stop, next_stop)\n",
    "                \n",
    "#                 if route_stop not in visited_route_stops:\n",
    "#                     visited_route_stops.add(route_stop)\n",
    "#                     new_path = current_state.path + [route_stop]\n",
    "#                     new_transfers = current_state.transfers\n",
    "#                     if current_state.path and current_state.path[-1][0] != route_id:\n",
    "#                         new_transfers += 1\n",
    "                    \n",
    "#                     new_state = PlanningState(next_stop, new_path, new_transfers)\n",
    "#                     frontier.append(new_state)\n",
    "#                     visited_route_stops.remove(route_stop)\n",
    "\n",
    "#     # Format paths to match test case format\n",
    "#     formatted_paths = []\n",
    "#     for path in paths:\n",
    "#         if len(path) <= max_transfers + 1:  # Only include paths within transfer limit\n",
    "#             formatted_paths.append(path)\n",
    "    \n",
    "#     return formatted_paths"
   ]
  },
  {
   "cell_type": "code",
   "execution_count": null,
   "metadata": {},
   "outputs": [],
   "source": [
    "def forward_chaining(start_stop_id, end_stop_id, via_stop_id, max_transfers):\n",
    "    valid_paths = []\n",
    "    queue = deque([(start_stop_id, [], 0)])  # (current_stop, path, transfers)\n",
    "\n",
    "    while queue:\n",
    "        current_stop, path, transfers = queue.popleft()\n",
    "\n",
    "        # Check if we have reached the end stop with the via stop included\n",
    "        if current_stop == end_stop_id and via_stop_id in [stop for _, stop in path]:\n",
    "            valid_paths.append(path)\n",
    "            continue  # Found a valid path, continue searching for more\n",
    "\n",
    "        # If transfers exceed max, skip\n",
    "        if transfers > max_transfers:\n",
    "            continue\n",
    "\n",
    "        # Explore all routes from the current stop\n",
    "        for route_id, stops in route_to_stops.items():\n",
    "            if current_stop in stops:\n",
    "                current_idx = stops.index(current_stop)\n",
    "                for next_stop in stops[current_idx + 1:]:\n",
    "                    new_transfers = transfers + (1 if path and path[-1][0] != route_id else 0)\n",
    "                    queue.append((next_stop, path + [(route_id, next_stop)], new_transfers))\n",
    "\n",
    "    return valid_paths\n",
    "\n",
    "def backward_chaining(start_stop_id, end_stop_id, via_stop_id, max_transfers):\n",
    "    valid_paths = []\n",
    "    queue = deque([(end_stop_id, [], 0)])  # (current_stop, path, transfers)\n",
    "\n",
    "    while queue:\n",
    "        current_stop, path, transfers = queue.popleft()\n",
    "\n",
    "        # Check if we have reached the start stop with the via stop included\n",
    "        if current_stop == start_stop_id and via_stop_id in [stop for _, stop in path]:\n",
    "            valid_paths.append(path[::-1])  # Reverse the path to show it from start to end\n",
    "            continue  # Found a valid path, continue searching for more\n",
    "\n",
    "        # If transfers exceed max, skip\n",
    "        if transfers > max_transfers:\n",
    "            continue\n",
    "\n",
    "        # Explore all routes from the current stop\n",
    "        for route_id, stops in route_to_stops.items():\n",
    "            if current_stop in stops:\n",
    "                current_idx = stops.index(current_stop)\n",
    "                for prev_stop in stops[:current_idx]:\n",
    "                    new_transfers = transfers + (1 if path and path[-1][0] != route_id else 0)\n",
    "                    queue.append((prev_stop, path + [(route_id, prev_stop)], new_transfers))\n",
    "\n",
    "    return valid_paths"
   ]
  },
  {
   "cell_type": "code",
   "execution_count": null,
   "metadata": {},
   "outputs": [],
   "source": [
    "\n",
    "# Forward chaining for optimal route planning\n",
    "def forward_chaining(start_stop_id, end_stop_id, stop_id_to_include, max_transfers):\n",
    "    \"\"\"\n",
    "    Perform forward chaining to find optimal routes considering transfers.\n",
    "\n",
    "    Args:\n",
    "        start_stop_id (int): The starting stop ID.\n",
    "        end_stop_id (int): The ending stop ID.\n",
    "        stop_id_to_include (int): The stop ID where a transfer occurs.\n",
    "        max_transfers (int): The maximum number of transfers allowed.\n",
    "\n",
    "    Returns:\n",
    "        list: A list of unique paths (list of tuples) that satisfy the criteria, where each tuple contains:\n",
    "              - route_id1 (int): The ID of the first route.\n",
    "              - stop_id (int): The ID of the intermediate stop.\n",
    "              - route_id2 (int): The ID of the second route.\n",
    "    \"\"\"\n",
    "    r_id_1 = [r_id for r_id, stps in route_to_stops.items() if start_stop_id in stps and stop_id_to_include in stps]\n",
    "    r_id_2 = [r_id for r_id, stps in route_to_stops.items() if end_stop_id in stps and stop_id_to_include in stps]\n",
    "\n",
    "    # Combine routes and check transfer constraints\n",
    "    paths = []\n",
    "    for r1 in r_id_1:\n",
    "        for r2 in r_id_2:\n",
    "            if r1 == r2 or max_transfers > 0:\n",
    "                paths.append((r1, stop_id_to_include, r2))\n",
    "    \n",
    "    print(paths)\n",
    "    \n",
    "    return paths\n",
    "\n",
    "# Backward chaining for optimal route planning\n",
    "def backward_chaining(start_stop_id, end_stop_id, stop_id_to_include, max_transfers):\n",
    "    \"\"\"\n",
    "    Perform backward chaining to find optimal routes considering transfers.\n",
    "\n",
    "    Args:\n",
    "        start_stop_id (int): The starting stop ID.\n",
    "        end_stop_id (int): The ending stop ID.\n",
    "        stop_id_to_include (int): The stop ID where a transfer occurs.\n",
    "        max_transfers (int): The maximum number of transfers allowed.\n",
    "\n",
    "    Returns:\n",
    "        list: A list of unique paths (list of tuples) that satisfy the criteria, where each tuple contains:\n",
    "              - route_id1 (int): The ID of the first route.\n",
    "              - stop_id (int): The ID of the intermediate stop.\n",
    "              - route_id2 (int): The ID of the second route.\n",
    "    \"\"\"\n",
    "    r_id_1 = [r_id for r_id, stps in route_to_stops.items() if start_stop_id in stps and stop_id_to_include in stps]\n",
    "    r_id_2 = [r_id for r_id, stps in route_to_stops.items() if end_stop_id in stps and stop_id_to_include in stps]\n",
    "\n",
    "    # Combine routes and check transfer constraints\n",
    "    paths = []\n",
    "    for r1 in r_id_1:\n",
    "        for r2 in r_id_2:\n",
    "            if r1 == r2 or max_transfers > 0:\n",
    "                paths.append((r1, stop_id_to_include, r2))\n",
    "    \n",
    "    return paths"
   ]
  },
  {
   "cell_type": "code",
   "execution_count": null,
   "metadata": {},
   "outputs": [],
   "source": [
    "backward_chaining(22540, 2573, 4686, 1)"
   ]
  },
  {
   "cell_type": "code",
   "execution_count": null,
   "metadata": {},
   "outputs": [],
   "source": [
    "def forward_chaining(start_stop_id, end_stop_id, via_stop_id, max_transfers):\n",
    "    valid_paths = []\n",
    "    queue = deque([(start_stop_id, [], 0)])  # (current_stop, path, transfers)\n",
    "\n",
    "    while queue:\n",
    "        current_stop, path, transfers = queue.popleft()\n",
    "\n",
    "        # Check if we have reached the end stop with the via stop included\n",
    "        if current_stop == end_stop_id and via_stop_id in [stop for _, stop in path]:\n",
    "            valid_paths.append(path)\n",
    "            continue  # Found a valid path, continue searching for more\n",
    "\n",
    "        # If transfers exceed max, skip\n",
    "        if transfers > max_transfers:\n",
    "            continue\n",
    "\n",
    "        # Explore all routes from the current stop\n",
    "        for route_id, stops in route_to_stops.items():\n",
    "            if current_stop in stops:\n",
    "                current_idx = stops.index(current_stop)\n",
    "                for next_stop in stops[current_idx + 1:]:\n",
    "                    new_transfers = transfers + (1 if path and path[-1][0] != route_id else 0)\n",
    "                    queue.append((next_stop, path + [(route_id, next_stop)], new_transfers))\n",
    "\n",
    "    return valid_paths\n"
   ]
  },
  {
   "cell_type": "code",
   "execution_count": null,
   "metadata": {},
   "outputs": [],
   "source": [
    "# Optimized forward chaining using BFS with pruning\n",
    "def forward_chaining(start_stop_id, end_stop_id, stop_id_to_include, max_transfers):\n",
    "    \"\"\"\n",
    "    Perform forward chaining using BFS to find optimal routes considering transfers.\n",
    "\n",
    "    Args:\n",
    "        start_stop_id (int): The starting stop ID.\n",
    "        end_stop_id (int): The ending stop ID.\n",
    "        stop_id_to_include (int): The stop ID where a transfer occurs.\n",
    "        max_transfers (int): The maximum number of transfers allowed.\n",
    "\n",
    "    Returns:\n",
    "        list: A list of unique routes where each route is represented as a list of tuples \n",
    "              containing (route_id, stop_id).\n",
    "    \"\"\"\n",
    "    queue = deque([(start_stop_id, 0, [start_stop_id])])\n",
    "    unique_paths = set()\n",
    "\n",
    "    while queue:\n",
    "        current_stop, current_transfers, path = queue.popleft()\n",
    "\n",
    "        if current_stop == end_stop_id:\n",
    "            unique_paths.add(tuple(path))  # Store path in order\n",
    "            continue\n",
    "\n",
    "        if current_transfers > max_transfers:\n",
    "            continue\n",
    "\n",
    "        for r_id, stops in route_to_stops.items():            \n",
    "            if current_stop in stops:\n",
    "                for next_stop in stops[stops.index(current_stop) + 1:]:\n",
    "                    if next_stop not in path:  # Avoid cycles\n",
    "                        new_transfers = current_transfers + (1 if next_stop == stop_id_to_include else 0)\n",
    "                        queue.append((next_stop, new_transfers, path + [next_stop]))\n",
    "\n",
    "    result = [\n",
    "        (r_id, path[i + 1])\n",
    "        for path in unique_paths\n",
    "        for i in range(len(path) - 1)\n",
    "        for r_id in query_direct_routes(path[i], path[i + 1])\n",
    "    ]\n",
    "\n",
    "    return result"
   ]
  },
  {
   "cell_type": "code",
   "execution_count": null,
   "metadata": {},
   "outputs": [],
   "source": [
    "forward_chaining(951, 340, 300, 1)"
   ]
  },
  {
   "cell_type": "code",
   "execution_count": null,
   "metadata": {
    "dotnet_interactive": {
     "language": "csharp"
    },
    "polyglot_notebook": {
     "kernelName": "csharp"
    }
   },
   "outputs": [],
   "source": [
    "# PDDL-style planning for route finding\n",
    "def pddl_planning(start_stop_id, end_stop_id, stop_id_to_include, max_transfers):\n",
    "    \"\"\"\n",
    "    Implement PDDL-style planning to find routes with optional transfers.\n",
    "\n",
    "    Args:\n",
    "        start_stop_id (int): The starting stop ID.\n",
    "        end_stop_id (int): The ending stop ID.\n",
    "        stop_id_to_include (int): The stop ID for a transfer.\n",
    "        max_transfers (int): The maximum number of transfers allowed.\n",
    "\n",
    "    Returns:\n",
    "        list: A list of unique paths (list of tuples) that satisfy the criteria, where each tuple contains:\n",
    "              - route_id (int): The ID of the route.\n",
    "              - stop_id (int): The ID of the stop.\n",
    "    \"\"\"\n",
    "\n",
    "    def is_goal(state):\n",
    "        \"\"\"Check if the current state is a goal state.\"\"\"\n",
    "        return state[0] == end_stop_id and (not stop_id_to_include or any(stop == stop_id_to_include for _, stop in state[1]))\n",
    "\n",
    "    def get_successors(state):\n",
    "        \"\"\"Generate successor states based on possible actions.\"\"\"\n",
    "        successors = []\n",
    "        current_stop, path, transfers = state\n",
    "\n",
    "        for route_id, stops in route_to_stops.items():\n",
    "            if current_stop in stops:\n",
    "                current_idx = stops.index(current_stop)\n",
    "\n",
    "                # Explore next stops on the same route\n",
    "                for next_stop in stops[current_idx + 1:]:\n",
    "                    new_path = path + ((route_id, next_stop),) # Concatenate tuple with tuple\n",
    "                    successors.append(((next_stop, new_path, transfers)))\n",
    "\n",
    "                # Explore transfers to other routes at the current stop\n",
    "                if transfers < max_transfers:\n",
    "                    for other_route_id, other_stops in route_to_stops.items():\n",
    "                        if route_id != other_route_id and current_stop in other_stops:\n",
    "                            for next_stop in other_stops:\n",
    "                                if next_stop != current_stop:\n",
    "                                    new_path = path + ((other_route_id, next_stop),) # Concatenate tuple with tuple\n",
    "                                    successors.append(((next_stop, new_path, transfers + 1)))\n",
    "\n",
    "        return successors\n",
    "\n",
    "    initial_state = (start_stop_id, tuple([(None, start_stop_id)]), 0)  \n",
    "    \n",
    "    queue = [(initial_state, None)] # (state, parent_state)\n",
    "    visited = set([initial_state])\n",
    "    \n",
    "    while queue:\n",
    "        (state, parent_state) = queue.pop(0)\n",
    "        current_stop, _, transfers = state\n",
    "\n",
    "        if is_goal(state):\n",
    "            return reconstruct_path(state, parent_state) # Backtrack to get the path\n",
    "\n",
    "        if transfers <= max_transfers:  \n",
    "            for next_state in get_successors(state):\n",
    "                if next_state not in visited:\n",
    "                    queue.append((next_state, state)) # Store current state as parent\n",
    "                    visited.add(next_state)\n",
    "\n",
    "    return None # No path found\n",
    "\n",
    "def reconstruct_path(state, parent_state):\n",
    "    \"\"\"Reconstructs the path from the goal state to the initial state.\"\"\"\n",
    "    path = [state[1]]\n",
    "    while parent_state is not None:\n",
    "        state = parent_state\n",
    "        path.append(state[1])\n",
    "        parent_state = state[1]\n",
    "    return list(reversed(path))"
   ]
  },
  {
   "cell_type": "code",
   "execution_count": null,
   "metadata": {},
   "outputs": [],
   "source": [
    "pddl_planning(951, 340, 300, 1)"
   ]
  },
  {
   "cell_type": "code",
   "execution_count": null,
   "metadata": {
    "dotnet_interactive": {
     "language": "csharp"
    },
    "polyglot_notebook": {
     "kernelName": "csharp"
    }
   },
   "outputs": [],
   "source": [
    "# Function to filter fare data based on an initial fare limit\n",
    "def prune_data(merged_fare_df, initial_fare):\n",
    "    \"\"\"\n",
    "    Filter fare data based on an initial fare limit.\n",
    "\n",
    "    Args:\n",
    "        merged_fare_df (DataFrame): The merged fare DataFrame.\n",
    "        initial_fare (float): The maximum fare allowed.\n",
    "\n",
    "    Returns:\n",
    "        DataFrame: A filtered DataFrame containing only routes within the fare limit.\n",
    "    \"\"\"\n",
    "    # Filter the merged fare DataFrame to include only routes with fares below the initial fare limit\n",
    "    return merged_fare_df[merged_fare_df['price'] <= initial_fare]"
   ]
  },
  {
   "cell_type": "code",
   "execution_count": null,
   "metadata": {},
   "outputs": [],
   "source": [
    "# merged_fare_df.head()"
   ]
  },
  {
   "cell_type": "code",
   "execution_count": null,
   "metadata": {},
   "outputs": [],
   "source": [
    "prune_data(merged_fare_df, 10)"
   ]
  },
  {
   "cell_type": "code",
   "execution_count": null,
   "metadata": {
    "dotnet_interactive": {
     "language": "csharp"
    },
    "polyglot_notebook": {
     "kernelName": "csharp"
    }
   },
   "outputs": [],
   "source": [
    "# Pre-computation of Route Summary\n",
    "def compute_route_summary(pruned_df):\n",
    "    \"\"\"\n",
    "    Generate a summary of routes based on fare information.\n",
    "\n",
    "    Args:\n",
    "        pruned_df (DataFrame): The filtered DataFrame containing fare information.\n",
    "\n",
    "    Returns:\n",
    "        dict: A summary of routes with the following structure:\n",
    "              {\n",
    "                  route_id (int): {\n",
    "                      'min_price': float,          # The minimum fare for the route\n",
    "                      'stops': set                # A set of stop IDs for that route\n",
    "                  }\n",
    "              }\n",
    "    \"\"\"\n",
    "    route_summary = {}\n",
    "    for route_id, data in pruned_df.groupby('route_id'):\n",
    "        route_summary[route_id] = {\n",
    "            'min_price': data['price'].min(),\n",
    "            'stops': set(data['destination_id'])\n",
    "        }\n",
    "    return route_summary"
   ]
  },
  {
   "cell_type": "code",
   "execution_count": null,
   "metadata": {},
   "outputs": [],
   "source": [
    "route_summary = compute_route_summary(prune_data(merged_fare_df, 10))"
   ]
  },
  {
   "cell_type": "code",
   "execution_count": null,
   "metadata": {},
   "outputs": [],
   "source": [
    "route_summary"
   ]
  },
  {
   "cell_type": "code",
   "execution_count": null,
   "metadata": {
    "dotnet_interactive": {
     "language": "csharp"
    },
    "polyglot_notebook": {
     "kernelName": "csharp"
    }
   },
   "outputs": [],
   "source": [
    "def bfs_route_planner_optimized(start_stop_id, end_stop_id, initial_fare, max_transfers=3):\n",
    "    \"\"\"\n",
    "    Use Breadth-First Search (BFS) to find the optimal route while considering fare constraints.\n",
    "\n",
    "    Args:\n",
    "        start_stop_id (int): The starting stop ID.\n",
    "        end_stop_id (int): The ending stop ID.\n",
    "        initial_fare (float): The available fare for the trip.\n",
    "        route_summary (dict): A dictionary containing route summary information.\n",
    "        max_transfers (int): The maximum number of transfers allowed (default is 3).\n",
    "\n",
    "    Returns:\n",
    "        list: A list representing the optimal route (or None if not found)\n",
    "              structured as a list of (route_id, stop_id) tuples.\n",
    "    \"\"\"\n",
    "    if not all([start_stop_id, end_stop_id, route_summary]) or not isinstance(route_summary, dict):\n",
    "        raise ValueError(\"Invalid input parameters\")\n",
    "\n",
    "    queue = [([(None, start_stop_id)], 0, initial_fare)]\n",
    "    visited = set([(start_stop_id, 0)])\n",
    "    best_path = None\n",
    "\n",
    "    while queue:\n",
    "        current_path, transfers, remaining_fare = queue.pop(0)\n",
    "        current_stop = current_path[-1][1]\n",
    "\n",
    "        if current_stop == end_stop_id:\n",
    "            if not best_path or len(current_path) < len(best_path):\n",
    "                best_path = current_path[1:]  # Remove the initial (None, start_stop_id)\n",
    "            continue\n",
    "\n",
    "        if transfers < max_transfers:\n",
    "            for route_id, route_info in route_summary.items():\n",
    "                if current_stop in route_info['stops']:\n",
    "                    for next_stop in route_info['stops']:\n",
    "                        if next_stop != current_stop:\n",
    "                            new_transfers = transfers + (current_path[-1][0] != route_id)\n",
    "                            new_fare = remaining_fare - route_info['min_price']\n",
    "                            \n",
    "                            if (next_stop, new_transfers) not in visited and new_fare >= 0:\n",
    "                                new_path = current_path + [(route_id, next_stop)]\n",
    "                                queue.append((new_path, new_transfers, new_fare))\n",
    "                                visited.add((next_stop, new_transfers))\n",
    "\n",
    "    return best_path"
   ]
  },
  {
   "cell_type": "code",
   "execution_count": null,
   "metadata": {},
   "outputs": [],
   "source": [
    "bfs_route_planner_optimized(22540, 2573, 10, 3)"
   ]
  }
 ],
 "metadata": {
  "kernelspec": {
   "display_name": "pyEnv",
   "language": "python",
   "name": "python3"
  },
  "language_info": {
   "codemirror_mode": {
    "name": "ipython",
    "version": 3
   },
   "file_extension": ".py",
   "mimetype": "text/x-python",
   "name": "python",
   "nbconvert_exporter": "python",
   "pygments_lexer": "ipython3",
   "version": "3.12.6"
  },
  "polyglot_notebook": {
   "kernelInfo": {
    "defaultKernelName": "csharp",
    "items": [
     {
      "aliases": [],
      "name": "csharp"
     }
    ]
   }
  }
 },
 "nbformat": 4,
 "nbformat_minor": 4
}
